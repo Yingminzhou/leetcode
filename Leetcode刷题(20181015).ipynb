{
 "cells": [
  {
   "cell_type": "markdown",
   "metadata": {},
   "source": [
    "# Leetcode刷题(20181015)"
   ]
  },
  {
   "cell_type": "markdown",
   "metadata": {},
   "source": [
    "## [75-Sort Colors](https://leetcode.com/problems/sort-colors/description/)\n",
    "\n",
    "### 问题描述\n",
    "\n",
    "给定一个`n`个对象的数组, 标有红色,白色或绿色, **就地**对它们进行排序,使得相同的颜色能够相邻,并且以红色/白色/绿色的顺序排列.\n",
    "在这里,我们分别使用整数`0`,`1`和`2`来表示红色/白色/绿色.\n",
    "\n",
    "**注意:**不能使用库自带的排序函数来解决这个问题.\n",
    "\n",
    "**示例1**\n",
    "```\n",
    "Input: [2,0,2,1,1,0]\n",
    "Output: [0,0,1,1,2,2]\n",
    "```\n",
    "\n",
    "**思考**\n",
    "- 一个比较直接的方法是使用一个两次遍历的排序算法:第一次迭代时计算`0`/`1`/`2`的数目,然后分别根据计数值来覆盖数组\n",
    "- 能否提出只使用常数空间的一步遍历算法?\n",
    "\n",
    "### 解题思路\n",
    "\n",
    "最简单的方法就是思考中提出的计数法: 分别计算`0`/`1`/`2`的数目, 然后覆盖源数组.\n",
    "\n",
    "接下来思考一下一步遍历的算法, 使用三个指针,分别指向:最左边的第一个`1`(`left`, 初始化为`-1`)和最右边的最后一个`1`(`right`, 初始化为`len(nums`)以及当前(`now`):\n",
    "- 如果`nums[now] == 0`\n",
    "    - 如果 `now > left && left > -1`, `swap(nums, now, left), left += 1, now+= 1`\n",
    "    - 如果 `now == left`, `now += 1`\n",
    "- 如果当前数字为`1`\n",
    "    - 如果 `left == -1`, `left += now, now += 1`\n",
    "    - 如果 `left > -1`, `now+= 1`\n",
    "- 如果当前数字为`2`,将其与`right`进行交换,并且`right -= 1`\n",
    "\n",
    "\n",
    "### 代码"
   ]
  },
  {
   "cell_type": "code",
   "execution_count": 5,
   "metadata": {},
   "outputs": [],
   "source": [
    "# counter sort\n",
    "class Solution(object):\n",
    "    def sortColors(self, nums):\n",
    "        \"\"\"\n",
    "        :type nums: List[int]\n",
    "        :rtype: void Do not return anything, modify nums in-place instead.\n",
    "        \"\"\"\n",
    "        zero_cnt, one_cnt, two_cnt = 0, 0, 0\n",
    "        for num in nums:\n",
    "            if num == 0:\n",
    "                zero_cnt += 1\n",
    "            elif num == 1:\n",
    "                one_cnt += 1\n",
    "            else:\n",
    "                two_cnt += 1\n",
    "        num_idx = self.overwrite(nums, 0, zero_cnt, 0)\n",
    "        num_idx = self.overwrite(nums, 1, one_cnt, num_idx)\n",
    "        self.overwrite(nums, 2, two_cnt, num_idx)\n",
    "    \n",
    "    \n",
    "    def overwrite(self, nums, num, cnt, num_idx):\n",
    "        while cnt > 0:\n",
    "            nums[num_idx] = num\n",
    "            num_idx += 1\n",
    "            cnt -= 1\n",
    "        return num_idx"
   ]
  },
  {
   "cell_type": "code",
   "execution_count": 25,
   "metadata": {},
   "outputs": [],
   "source": [
    "class Solution(object):\n",
    "    def sortColors(self, nums):\n",
    "        \"\"\"\n",
    "        :type nums: List[int]\n",
    "        :rtype: void Do not return anything, modify nums in-place instead.\n",
    "        \"\"\"\n",
    "        left, now, right = -1, 0, len(nums)-1\n",
    "        while now <= right:\n",
    "            if nums[now] == 0 and left > -1:\n",
    "                nums[left], nums[now] = nums[now], nums[left]\n",
    "                left += 1\n",
    "            elif nums[now] == 1 and left == -1:\n",
    "                left = now\n",
    "            elif nums[now] == 2:\n",
    "                nums[now], nums[right] = nums[right], nums[now]\n",
    "                right -= 1\n",
    "                now -= 1\n",
    "            now += 1"
   ]
  },
  {
   "cell_type": "code",
   "execution_count": 27,
   "metadata": {},
   "outputs": [
    {
     "name": "stdout",
     "output_type": "stream",
     "text": [
      "[0, 0, 0, 1, 1, 1, 2, 2, 2, 2]\n"
     ]
    }
   ],
   "source": [
    "# test case\n",
    "s = Solution()\n",
    "nums = [1,2,2,2,2,0,0,0,1,1]\n",
    "s.sortColors(nums)\n",
    "print nums"
   ]
  },
  {
   "cell_type": "markdown",
   "metadata": {},
   "source": [
    "## [76-Minimum Window Substring](https://leetcode.com/problems/minimum-window-substring/description/)\n",
    "\n",
    "### 问题描述\n",
    "\n",
    "给定两个字符串`S`和`T`, 在时间复杂度`O(n)`以内, 找到`S`中包含`T`中所有字符的最小时间窗口.\n",
    "\n",
    "**示例**\n",
    "```\n",
    "Input: S = \"ADOBECODEBANC\", T = \"ABC\"\n",
    "Output: \"BANC\"\n",
    "```\n",
    "\n",
    "**注意**:\n",
    "\n",
    "- 如果`S`中没有窗口能够覆盖`T`中的所有字符, 返回空字符串`\"\"`\n",
    "- 如果存在这样一个窗口, 可以假设在`S`中只会有一个唯一的最小窗口\n",
    "\n",
    "### 解题思路\n",
    "\n",
    "本题的主要考察点其实是如何维护一个字符串窗口, 涉及到两个操作:\n",
    "- 当子串没有完全包含`T`时, 需要向右扩展\n",
    "- 当子串完全包含`T`时, 需要从左压缩\n",
    "\n",
    "使用一个哈希结构(`char_dict`)存储`T`的所有字符及其出现的次数, `key`为字符, `value`为出现次数\n",
    "\n",
    "初始化: `start_idx = 0`, `match_cnt = 0`\n",
    "\n",
    "遍历`S`, 对于当前字符, 如果不在`char_dict`中,则继续, 否则:\n",
    "- `char_dict[s[i]] -= 1`, `mactch_cnt += 1`\n",
    "    - 如果`match_cnt == len(T)`, 表示已经匹配完成了, 此时需要从左压缩: 判断其中是否有可能匹配的子串, 更新相关值\n",
    "    - `match_cnt -= 1, start_idx += 1`\n",
    "\n",
    "PS: 在一些资料里面还看到了可以用一个`256`的数组替代哈希结构,这样可以提高效率.\n",
    "    \n",
    "### 代码"
   ]
  },
  {
   "cell_type": "code",
   "execution_count": 34,
   "metadata": {},
   "outputs": [],
   "source": [
    "class Solution(object):\n",
    "    def minWindow(self, s, t):\n",
    "        \"\"\"\n",
    "        :type s: str\n",
    "        :type t: str\n",
    "        :rtype: str\n",
    "        \"\"\"\n",
    "        char_dict = dict()\n",
    "        for t_char in t:\n",
    "            cnt = 1\n",
    "            if t_char in char_dict:\n",
    "                cnt += char_dict[t_char]\n",
    "            char_dict[t_char] = cnt\n",
    "        start_idx, match_cnt, min_start, min_window = 0, 0, 0, len(s)+1\n",
    "        for end_idx in range(len(s)):\n",
    "            char = s[end_idx]\n",
    "            if char in char_dict:\n",
    "                char_dict[char] -= 1\n",
    "                if char_dict[char] >= 0:\n",
    "                    match_cnt += 1\n",
    "            while match_cnt == len(t):\n",
    "                if end_idx - start_idx + 1 < min_window:\n",
    "                    min_window = end_idx - start_idx + 1\n",
    "                    min_start = start_idx\n",
    "                if s[start_idx] in char_dict:\n",
    "                    char_dict[s[start_idx]] += 1\n",
    "                    if char_dict[s[start_idx]] > 0:\n",
    "                        match_cnt -= 1\n",
    "                start_idx += 1\n",
    "        print min_start, min_window\n",
    "        return s[min_start: min_start + min_window] if min_window <= len(s) else \"\""
   ]
  },
  {
   "cell_type": "code",
   "execution_count": 37,
   "metadata": {},
   "outputs": [
    {
     "name": "stdout",
     "output_type": "stream",
     "text": [
      "9 4\n",
      "BANC\n"
     ]
    }
   ],
   "source": [
    "sl = Solution()\n",
    "S = \"ADOBECODEBANC\"\n",
    "T = \"ABC\"\n",
    "print sl.minWindow(S, T)"
   ]
  },
  {
   "cell_type": "markdown",
   "metadata": {},
   "source": [
    "## [77-Combinations](https://leetcode.com/problems/combinations/description/)\n",
    "\n",
    "### 问题描述\n",
    "\n",
    "给定两个整数`n`和`k`, 返回从`1`到`n`的`k`个数的所有可能组合.\n",
    "\n",
    "**示例**\n",
    "```\n",
    "Input: n = 4, k = 2\n",
    "Output:\n",
    "[\n",
    "  [2,4],\n",
    "  [3,4],\n",
    "  [2,3],\n",
    "  [1,2],\n",
    "  [1,3],\n",
    "  [1,4],\n",
    "]\n",
    "```\n",
    "\n",
    "### 解题思路\n",
    "\n",
    "初始化一个长度为`n`的`list`\n",
    "尝试找下规律:\n",
    "- `k=1`, 那么直接返回`list`即可\n",
    "- `k=2`, 基于之前的结果, 遍历之前的结果`list`, 第一个指针指向`1+i`, 向后移动, 直到`n-1`为止, 外层循环直到`1+i==n`为止\n",
    "- `k=3`, 基于之前的结果, 遍历之前的结果`list`, 第一个指针指向`2+i`, 向后移动, 直到`n-1`为止, 外层循环直到`2+i==n`为止\n",
    "- ...\n",
    "\n",
    "很明显, 这个问题可以是一个递归问题\n",
    "\n",
    "### 代码"
   ]
  },
  {
   "cell_type": "code",
   "execution_count": 20,
   "metadata": {},
   "outputs": [],
   "source": [
    "class Solution(object):\n",
    "    def combine(self, n, k):\n",
    "        \"\"\"\n",
    "        :type n: int\n",
    "        :type k: int\n",
    "        :rtype: List[List[int]]\n",
    "        \"\"\"\n",
    "        if k == 0:\n",
    "            return list()\n",
    "        ans = [[i+1] for i in range(n)]\n",
    "        for i in range(2, k+1):\n",
    "            ans = self.combineArr(ans, i, n)\n",
    "        return ans\n",
    "        \n",
    "    def combineArr(self, ans, k, n):\n",
    "        new_ans = list()\n",
    "        for i in range(len(ans)):\n",
    "            start = ans[i][-1] + 1\n",
    "            arr = ans[i]\n",
    "            while start <= n:\n",
    "                now_arr = arr + [ start ]\n",
    "                new_ans.append(now_arr)\n",
    "                start += 1\n",
    "        return new_ans\n"
   ]
  },
  {
   "cell_type": "code",
   "execution_count": 21,
   "metadata": {},
   "outputs": [
    {
     "name": "stdout",
     "output_type": "stream",
     "text": [
      "[[1, 2, 3], [1, 2, 4], [1, 3, 4], [2, 3, 4]]\n"
     ]
    }
   ],
   "source": [
    "s = Solution()\n",
    "n = 4\n",
    "k = 3\n",
    "print s.combine(n, k)"
   ]
  },
  {
   "cell_type": "markdown",
   "metadata": {},
   "source": [
    "## [78-Subsets](https://leetcode.com/problems/subsets/description/)\n",
    "\n",
    "### 问题描述\n",
    "\n",
    "给定一个**不重复**的整数集合, `nums`, 返回所有可能的子集(指数集合).\n",
    "\n",
    "**注意:** 方案集合不能包含重复的子集.\n",
    "\n",
    "**示例**\n",
    "```\n",
    "Input: nums = [1,2,3]\n",
    "Output:\n",
    "[\n",
    "  [3],\n",
    "  [1],\n",
    "  [2],\n",
    "  [1,2,3],\n",
    "  [1,3],\n",
    "  [2,3],\n",
    "  [1,2],\n",
    "  []\n",
    "]\n",
    "```\n",
    "\n",
    "### 解题思路\n",
    "\n",
    "这个题目感觉和上一题类似, `k`从`0`到`len(n)`, 将所有集合都加到一起即可.\n",
    "\n",
    "只不过需要把`combineArr`函数中间的`append`的过程修改一下, 需要把`start`的计算改一下.\n",
    "\n",
    "### 代码"
   ]
  },
  {
   "cell_type": "code",
   "execution_count": 30,
   "metadata": {},
   "outputs": [],
   "source": [
    "class Solution(object):\n",
    "    def subsets(self, nums):\n",
    "        \"\"\"\n",
    "        :type nums: List[int]\n",
    "        :rtype: List[List[int]]\n",
    "        \"\"\"\n",
    "        n = len(nums)\n",
    "        pos_dict = dict()\n",
    "        for i in range(n):\n",
    "            pos_dict[nums[i]] = i\n",
    "        total_ans = list()\n",
    "        ans = list()\n",
    "        for i in range(n+1):\n",
    "            ans = self.combineArr(ans, i, n, nums, pos_dict)\n",
    "            total_ans += ans\n",
    "        return total_ans\n",
    "        \n",
    "    def combineArr(self, ans, k, n, nums, pos_dict):\n",
    "        new_ans = list()\n",
    "        if k == 0:\n",
    "            return [[]]\n",
    "        if k == 1:\n",
    "            return [[nums[i]] for i in range(n)]\n",
    "        for i in range(len(ans)):\n",
    "            start = pos_dict[ans[i][-1]] + 1\n",
    "            arr = ans[i]\n",
    "            while start < n:\n",
    "                now_arr = arr + [nums[start]]\n",
    "                new_ans.append(now_arr)\n",
    "                start += 1\n",
    "        return new_ans"
   ]
  },
  {
   "cell_type": "code",
   "execution_count": 31,
   "metadata": {},
   "outputs": [
    {
     "name": "stdout",
     "output_type": "stream",
     "text": [
      "[[], [1], [2], [3], [1, 2], [1, 3], [2, 3], [1, 2, 3]]\n"
     ]
    }
   ],
   "source": [
    "nums = [1,2,3]\n",
    "s = Solution()\n",
    "print s.subsets(nums)"
   ]
  },
  {
   "cell_type": "markdown",
   "metadata": {},
   "source": [
    "## [79-Word Search](https://leetcode.com/problems/word-search/)\n",
    "\n",
    "### 问题描述\n",
    "\n",
    "给定一个2维的单词板和一个单词, 判断该单词是否存在于板中.\n",
    "\n",
    "该单词可以是从顺序相连的格子总共组成的, 其中相连表示横向或纵向相连. 相同的字符格不能使用超过`1`次.\n",
    "\n",
    "**示例**\n",
    "```\n",
    "board =\n",
    "[\n",
    "  ['A','B','C','E'],\n",
    "  ['S','F','C','S'],\n",
    "  ['A','D','E','E']\n",
    "]\n",
    "\n",
    "给定 word = \"ABCCED\", 返回 true.\n",
    "给定 word = \"SEE\", 返回 true.\n",
    "给定 word = \"ABCB\", 返回 false.\n",
    "```\n",
    "\n",
    "### 解决思路\n",
    "\n",
    "这是一个典型的回溯问题, 从坐标`(0,0)`开始, 判断当前字符与第`i`个字符是否相等:\n",
    "\n",
    "- 如果相等, 那么判断上下左右是否与第`i+1`是否匹配, 一旦有, 继续, 没有的话就返回`false`\n",
    "- 如果不相等, 直接向右走\n",
    "\n",
    "\n",
    "### 代码"
   ]
  },
  {
   "cell_type": "code",
   "execution_count": 17,
   "metadata": {},
   "outputs": [],
   "source": [
    "class Solution(object):\n",
    "    def exist(self, board, word):\n",
    "        \"\"\"\n",
    "        :type board: List[List[str]]\n",
    "        :type word: str\n",
    "        :rtype: bool\n",
    "        \"\"\"\n",
    "        for i in range(len(board)):\n",
    "            for j in range(len(board[i])):\n",
    "                empty_set = set()\n",
    "                if self.existIndex(board, word, i, j, 0, empty_set):\n",
    "                    return True\n",
    "        return False\n",
    "\n",
    "    def existIndex(self, board, word, i, j, k, index_set):\n",
    "        if i < 0 or i >= len(board) or j < 0 or j >= len(board[i]) or (i, j) in index_set or board[i][j] != word[k]:\n",
    "            return False\n",
    "        if k == len(word) - 1:\n",
    "            return True\n",
    "        index_set.add((i, j))\n",
    "        next_res = self.existIndex(board, word, i - 1, j, k + 1, index_set) or self.existIndex(board, word, i + 1, j, k + 1,\n",
    "                                                                                           index_set) or self.existIndex(\n",
    "            board, word, i, j - 1, k + 1, index_set) or self.existIndex(board, word, i, j + 1, k + 1, index_set)\n",
    "        if not next_res:\n",
    "            index_set.remove((i, j))\n",
    "        else:\n",
    "            return True"
   ]
  },
  {
   "cell_type": "code",
   "execution_count": 18,
   "metadata": {},
   "outputs": [
    {
     "name": "stdout",
     "output_type": "stream",
     "text": [
      "False\n"
     ]
    }
   ],
   "source": [
    "board =[['A','B','C','E'],['S','F','C','S'],['A','D','E','E']]\n",
    "word = \"ABCB\"\n",
    "s = Solution()\n",
    "res = s.exist(board, word)\n",
    "print(res)"
   ]
  },
  {
   "cell_type": "markdown",
   "metadata": {},
   "source": [
    "## [80-Remove Duplicates from Sorted Array II](https://leetcode.com/problems/remove-duplicates-from-sorted-array-ii/description/)\n",
    "\n",
    "### 问题描述\n",
    "\n",
    "给定一个排序好的数字`nums`, **就地**删除重复的数字保证重复的数字之多只能出现*两次*, 并且返回新的长度.\n",
    "\n",
    "不能为另一个数组分配额外的额外的空间, 只能使用`O(1)`的额外空间来**修改输入数组**实现该功能.\n",
    "\n",
    "**示例1**\n",
    "```\n",
    "给定 nums = [1,1,1,2,2,3],\n",
    "\n",
    "函数应该返回 length = 5, nums数组的前5个元素分别为: 1, 1, 2, 2 以及 3.\n",
    "\n",
    "数组第5位之后的元素没有任何关系.\n",
    "```\n",
    "**示例2**\n",
    "```\n",
    "给定 nums = [0,0,1,1,1,1,2,3,3],\n",
    "\n",
    "函数应该返回 length = 7, nums数组的前7个元素分别为 0, 0, 1, 1, 2, 3 以及 3.\n",
    "\n",
    "数组第7位之后的元素没有任何关系.\n",
    "```\n",
    "\n",
    "**说明**\n",
    "- 疑惑为什么返回的值是一个整数但是回答是一个数组?\n",
    "- 注意输入的数组是通过**引用**传递的, 这就意味着对输入数组的修改对调用者也是可以感知的.\n",
    "- 内部可以这样想:\n",
    "\n",
    "```\n",
    "// nums 通过引用传递 (例如, 不用复制数组)\n",
    "int len = removeDuplicates(nums);\n",
    "\n",
    "// 对输入数组的修改对调用者也是可以感知的.\n",
    "// 使用函数返回的长度, 可以打印前len长度的元素\n",
    "for (int i = 0; i < len; i++) {\n",
    "    print(nums[i]);\n",
    "}\n",
    "```\n",
    "\n",
    "### 解题思路\n",
    "\n",
    "使用两个指针指向`nums`数组, 其中,第一个指针标识待替换的索引, 第二个指针标识当前需要替换的元素.\n",
    "两个问题, 需要替换的索引, 使用两个元素存储信息:\n",
    "- `num`标识当前的数字\n",
    "- `num_cnt`标识当前数字的重复次数\n",
    "\n",
    "待替换的索引: 当`num_cnt > 2`时, 该索引停止向前\n",
    "需要替换的索引: 当`num_cnt < 2`时, 将该数值填充到待替换的索引`num_cnt`次, 待替换索引向前\n",
    "\n",
    "### 代码"
   ]
  },
  {
   "cell_type": "code",
   "execution_count": 28,
   "metadata": {},
   "outputs": [],
   "source": [
    "class Solution(object):\n",
    "    def removeDuplicates(self, nums):\n",
    "        \"\"\"\n",
    "        :type nums: List[int]\n",
    "        :rtype: int\n",
    "        \"\"\"\n",
    "        if len(nums) == 0:\n",
    "            return 0\n",
    "        start, end, num_cnt = 0, 1, 1\n",
    "        num = nums[0]\n",
    "        while end < len(nums):\n",
    "            while end < len(nums) and nums[end] == num:\n",
    "                num_cnt += 1\n",
    "                end += 1\n",
    "            if num_cnt > 2:\n",
    "                nums[start] = num\n",
    "                start += 1\n",
    "                nums[start] = num\n",
    "                start += 1\n",
    "                num_cnt = 0\n",
    "            else:\n",
    "                while num_cnt > 0:\n",
    "                    nums[start] = num\n",
    "                    start += 1\n",
    "                    num_cnt -= 1\n",
    "            if end < len(nums):\n",
    "                num = nums[end]\n",
    "        return 1 if start == 0 else start"
   ]
  },
  {
   "cell_type": "code",
   "execution_count": 29,
   "metadata": {},
   "outputs": [
    {
     "name": "stdout",
     "output_type": "stream",
     "text": [
      "7\n"
     ]
    }
   ],
   "source": [
    "s = Solution()\n",
    "nums = [0,0,1,1,1,1,2,3,3]\n",
    "print(s.removeDuplicates(nums))"
   ]
  },
  {
   "attachments": {
    "image.png": {
     "image/png": "[encoded data removed]"
    }
   },
   "cell_type": "markdown",
   "metadata": {},
   "source": [
    "## [81-Search in Rotated Sorted Array II](https://leetcode.com/problems/search-in-rotated-sorted-array-ii/description/)\n",
    "\n",
    "### 问题描述\n",
    "\n",
    "假设一个数组是在一个我们之前不知道的轴点旋转的升序数组.(例如, `[0,0,1,2,2,5,6]`可能变成`[2,5,6,0,0,1,2]`).\n",
    "\n",
    "给定一个待搜索的目标, 如果其在数组中出现, 返回`true`, 否则的话返回`false`.\n",
    "\n",
    "**示例1**\n",
    "```\n",
    "Input: nums = [2,5,6,0,0,1,2], target = 0\n",
    "Output: true\n",
    "```\n",
    "\n",
    "**示例2**\n",
    "```\n",
    "Input: nums = [2,5,6,0,0,1,2], target = 3\n",
    "Output: false\n",
    "```\n",
    "\n",
    "**思考**\n",
    "-  这是一个类似于`33`题的一个问题, 但是本题中`nums`可能包含重复值\n",
    "- 这是否会影响复杂性? 如何影响的又是为什么会影响?\n",
    "\n",
    "### 解题思路\n",
    "\n",
    "其实这一题与之前的`33`题的整体思路类似, 让我们回顾一下这个题目的解法.\n",
    "\n",
    "数组只可能有下面三种情况:\n",
    "![image.png](attachment:image.png)\n",
    "\n",
    "假设`l`表示左边缘,`r`表示右边缘, `m`表示中间的值, 有三种情况:\n",
    "- 如果`nums[m] == target`, 直接返回`true`\n",
    "- 如果`nums[m] < nums[r]`, 表示数组从`m`到`r`一定是有序的(没有受`rotate`的影响), 那么只需要根据情况向左或者向右移动即可\n",
    "- 否则, 表示数组从`l`到`m`一定是有序的,也只需要根据情况向左或者向右移动即可\n",
    "\n",
    "本题的不同之处在于:可能出现重复的数值, 因此,如果出现`nums[m]==nums[r]`的情况, 我们就丢失了哪边有序的信息，因为哪边都有可能是有序的结果。这个时候就需要对边缘进行移动, 直到边缘不等于中间值或者与中间相遇为止, 才可以判断某一边是否有序的情况.所以最坏情况（比如全部都是一个元素，或者只有一个元素不同于其他元素，而它就在最后一个）就会出现每次移动一步, 此时最坏的时间复杂度为`O(n)`.\n",
    "\n",
    "### 代码"
   ]
  },
  {
   "cell_type": "code",
   "execution_count": 42,
   "metadata": {},
   "outputs": [],
   "source": [
    "class Solution(object):\n",
    "    def search(self, nums, target):\n",
    "        \"\"\"\n",
    "        :type nums: List[int]\n",
    "        :type target: int\n",
    "        :rtype: bool\n",
    "        \"\"\"\n",
    "        l, r = 0, len(nums)-1\n",
    "        while l <= r:\n",
    "            m = int((l+r) / 2)\n",
    "            if target == nums[m]:\n",
    "                return True\n",
    "            if nums[m] < nums[r]:\n",
    "                if nums[m] < target and nums[r] >= target:\n",
    "                    l = m + 1\n",
    "                else:\n",
    "                    r = m - 1\n",
    "            elif nums[m] > nums[r]:\n",
    "                if nums[m] > target and nums[l] <= target:\n",
    "                    r = m - 1\n",
    "                else:\n",
    "                    l = m + 1\n",
    "            else:\n",
    "                r -= 1\n",
    "        return False"
   ]
  },
  {
   "cell_type": "code",
   "execution_count": 43,
   "metadata": {},
   "outputs": [
    {
     "name": "stdout",
     "output_type": "stream",
     "text": [
      "True\n"
     ]
    }
   ],
   "source": [
    "s = Solution()\n",
    "nums = [3,1,2,3,3,3,3]\n",
    "print(s.search(nums, 1))\n"
   ]
  }
 ],
 "metadata": {
  "kernelspec": {
   "display_name": "Python 2",
   "language": "python",
   "name": "python2"
  },
  "language_info": {
   "codemirror_mode": {
    "name": "ipython",
    "version": 2
   },
   "file_extension": ".py",
   "mimetype": "text/x-python",
   "name": "python",
   "nbconvert_exporter": "python",
   "pygments_lexer": "ipython2",
   "version": "2.7.15"
  }
 },
 "nbformat": 4,
 "nbformat_minor": 2
}
