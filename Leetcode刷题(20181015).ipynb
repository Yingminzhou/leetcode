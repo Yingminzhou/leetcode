{
 "cells": [
  {
   "cell_type": "markdown",
   "metadata": {},
   "source": [
    "# Leetcode刷题(20181015)"
   ]
  },
  {
   "cell_type": "markdown",
   "metadata": {},
   "source": [
    "## [75-Sort Colors](https://leetcode.com/problems/sort-colors/description/)\n",
    "\n",
    "### 问题描述\n",
    "\n",
    "给定一个`n`个对象的数组, 标有红色,白色或绿色, **就地**对它们进行排序,使得相同的颜色能够相邻,并且以红色/白色/绿色的顺序排列.\n",
    "在这里,我们分别使用整数`0`,`1`和`2`来表示红色/白色/绿色.\n",
    "\n",
    "**注意:**不能使用库自带的排序函数来解决这个问题.\n",
    "\n",
    "**示例1**\n",
    "```\n",
    "Input: [2,0,2,1,1,0]\n",
    "Output: [0,0,1,1,2,2]\n",
    "```\n",
    "\n",
    "**思考**\n",
    "- 一个比较直接的方法是使用一个两次遍历的排序算法:第一次迭代时计算`0`/`1`/`2`的数目,然后分别根据计数值来覆盖数组\n",
    "- 能否提出只使用常数空间的一步遍历算法?\n",
    "\n",
    "### 解题思路\n",
    "\n",
    "最简单的方法就是思考中提出的计数法: 分别计算`0`/`1`/`2`的数目, 然后覆盖源数组.\n",
    "\n",
    "接下来思考一下一步遍历的算法, 使用三个指针,分别指向:最左边的第一个`1`(`left`, 初始化为`-1`)和最右边的最后一个`1`(`right`, 初始化为`len(nums`)以及当前(`now`):\n",
    "- 如果`nums[now] == 0`\n",
    "    - 如果 `now > left && left > -1`, `swap(nums, now, left), left += 1, now+= 1`\n",
    "    - 如果 `now == left`, `now += 1`\n",
    "- 如果当前数字为`1`\n",
    "    - 如果 `left == -1`, `left += now, now += 1`\n",
    "    - 如果 `left > -1`, `now+= 1`\n",
    "- 如果当前数字为`2`,将其与`right`进行交换,并且`right -= 1`\n",
    "\n",
    "\n",
    "### 代码"
   ]
  },
  {
   "cell_type": "code",
   "execution_count": 5,
   "metadata": {},
   "outputs": [],
   "source": [
    "# counter sort\n",
    "class Solution(object):\n",
    "    def sortColors(self, nums):\n",
    "        \"\"\"\n",
    "        :type nums: List[int]\n",
    "        :rtype: void Do not return anything, modify nums in-place instead.\n",
    "        \"\"\"\n",
    "        zero_cnt, one_cnt, two_cnt = 0, 0, 0\n",
    "        for num in nums:\n",
    "            if num == 0:\n",
    "                zero_cnt += 1\n",
    "            elif num == 1:\n",
    "                one_cnt += 1\n",
    "            else:\n",
    "                two_cnt += 1\n",
    "        num_idx = self.overwrite(nums, 0, zero_cnt, 0)\n",
    "        num_idx = self.overwrite(nums, 1, one_cnt, num_idx)\n",
    "        self.overwrite(nums, 2, two_cnt, num_idx)\n",
    "    \n",
    "    \n",
    "    def overwrite(self, nums, num, cnt, num_idx):\n",
    "        while cnt > 0:\n",
    "            nums[num_idx] = num\n",
    "            num_idx += 1\n",
    "            cnt -= 1\n",
    "        return num_idx"
   ]
  },
  {
   "cell_type": "code",
   "execution_count": 25,
   "metadata": {},
   "outputs": [],
   "source": [
    "class Solution(object):\n",
    "    def sortColors(self, nums):\n",
    "        \"\"\"\n",
    "        :type nums: List[int]\n",
    "        :rtype: void Do not return anything, modify nums in-place instead.\n",
    "        \"\"\"\n",
    "        left, now, right = -1, 0, len(nums)-1\n",
    "        while now <= right:\n",
    "            if nums[now] == 0 and left > -1:\n",
    "                nums[left], nums[now] = nums[now], nums[left]\n",
    "                left += 1\n",
    "            elif nums[now] == 1 and left == -1:\n",
    "                left = now\n",
    "            elif nums[now] == 2:\n",
    "                nums[now], nums[right] = nums[right], nums[now]\n",
    "                right -= 1\n",
    "                now -= 1\n",
    "            now += 1"
   ]
  },
  {
   "cell_type": "code",
   "execution_count": 27,
   "metadata": {},
   "outputs": [
    {
     "name": "stdout",
     "output_type": "stream",
     "text": [
      "[0, 0, 0, 1, 1, 1, 2, 2, 2, 2]\n"
     ]
    }
   ],
   "source": [
    "# test case\n",
    "s = Solution()\n",
    "nums = [1,2,2,2,2,0,0,0,1,1]\n",
    "s.sortColors(nums)\n",
    "print nums"
   ]
  },
  {
   "cell_type": "markdown",
   "metadata": {},
   "source": [
    "## [76-Minimum Window Substring](https://leetcode.com/problems/minimum-window-substring/description/)\n",
    "\n",
    "### 问题描述\n",
    "\n",
    "给定两个字符串`S`和`T`, 在时间复杂度`O(n)`以内, 找到`S`中包含`T`中所有字符的最小时间窗口.\n",
    "\n",
    "**示例**\n",
    "```\n",
    "Input: S = \"ADOBECODEBANC\", T = \"ABC\"\n",
    "Output: \"BANC\"\n",
    "```\n",
    "\n",
    "**注意**:\n",
    "\n",
    "- 如果`S`中没有窗口能够覆盖`T`中的所有字符, 返回空字符串`\"\"`\n",
    "- 如果存在这样一个窗口, 可以假设在`S`中只会有一个唯一的最小窗口\n",
    "\n",
    "### 解题思路\n",
    "\n",
    "本题的主要考察点其实是如何维护一个字符串窗口, 涉及到两个操作:\n",
    "- 当子串没有完全包含`T`时, 需要向右扩展\n",
    "- 当子串完全包含`T`时, 需要从左压缩\n",
    "\n",
    "使用一个哈希结构(`char_dict`)存储`T`的所有字符及其出现的次数, `key`为字符, `value`为出现次数\n",
    "\n",
    "初始化: `start_idx = 0`, `match_cnt = 0`\n",
    "\n",
    "遍历`S`, 对于当前字符, 如果不在`char_dict`中,则继续, 否则:\n",
    "- `char_dict[s[i]] -= 1`, `mactch_cnt += 1`\n",
    "    - 如果`match_cnt == len(T)`, 表示已经匹配完成了, 此时需要从左压缩: 判断其中是否有可能匹配的子串, 更新相关值\n",
    "    - `match_cnt -= 1, start_idx += 1`\n",
    "\n",
    "PS: 在一些资料里面还看到了可以用一个`256`的数组替代哈希结构,这样可以提高效率.\n",
    "    \n",
    "### 代码"
   ]
  },
  {
   "cell_type": "code",
   "execution_count": 34,
   "metadata": {},
   "outputs": [],
   "source": [
    "class Solution(object):\n",
    "    def minWindow(self, s, t):\n",
    "        \"\"\"\n",
    "        :type s: str\n",
    "        :type t: str\n",
    "        :rtype: str\n",
    "        \"\"\"\n",
    "        char_dict = dict()\n",
    "        for t_char in t:\n",
    "            cnt = 1\n",
    "            if t_char in char_dict:\n",
    "                cnt += char_dict[t_char]\n",
    "            char_dict[t_char] = cnt\n",
    "        start_idx, match_cnt, min_start, min_window = 0, 0, 0, len(s)+1\n",
    "        for end_idx in range(len(s)):\n",
    "            char = s[end_idx]\n",
    "            if char in char_dict:\n",
    "                char_dict[char] -= 1\n",
    "                if char_dict[char] >= 0:\n",
    "                    match_cnt += 1\n",
    "            while match_cnt == len(t):\n",
    "                if end_idx - start_idx + 1 < min_window:\n",
    "                    min_window = end_idx - start_idx + 1\n",
    "                    min_start = start_idx\n",
    "                if s[start_idx] in char_dict:\n",
    "                    char_dict[s[start_idx]] += 1\n",
    "                    if char_dict[s[start_idx]] > 0:\n",
    "                        match_cnt -= 1\n",
    "                start_idx += 1\n",
    "        print min_start, min_window\n",
    "        return s[min_start: min_start + min_window] if min_window <= len(s) else \"\""
   ]
  },
  {
   "cell_type": "code",
   "execution_count": 37,
   "metadata": {},
   "outputs": [
    {
     "name": "stdout",
     "output_type": "stream",
     "text": [
      "9 4\n",
      "BANC\n"
     ]
    }
   ],
   "source": [
    "sl = Solution()\n",
    "S = \"ADOBECODEBANC\"\n",
    "T = \"ABC\"\n",
    "print sl.minWindow(S, T)"
   ]
  },
  {
   "cell_type": "markdown",
   "metadata": {},
   "source": [
    "## [77-Combinations](https://leetcode.com/problems/combinations/description/)\n",
    "\n",
    "### 问题描述\n",
    "\n",
    "给定两个整数`n`和`k`, 返回从`1`到`n`的`k`个数的所有可能组合.\n",
    "\n",
    "**示例**\n",
    "```\n",
    "Input: n = 4, k = 2\n",
    "Output:\n",
    "[\n",
    "  [2,4],\n",
    "  [3,4],\n",
    "  [2,3],\n",
    "  [1,2],\n",
    "  [1,3],\n",
    "  [1,4],\n",
    "]\n",
    "```\n",
    "\n",
    "### 解题思路\n",
    "\n",
    "初始化一个长度为`n`的`list`\n",
    "尝试找下规律:\n",
    "- `k=1`, 那么直接返回`list`即可\n",
    "- `k=2`, 基于之前的结果, 遍历之前的结果`list`, 第一个指针指向`1+i`, 向后移动, 直到`n-1`为止, 外层循环直到`1+i==n`为止\n",
    "- `k=3`, 基于之前的结果, 遍历之前的结果`list`, 第一个指针指向`2+i`, 向后移动, 直到`n-1`为止, 外层循环直到`2+i==n`为止\n",
    "- ...\n",
    "\n",
    "很明显, 这个问题可以是一个递归问题\n",
    "\n",
    "### 代码"
   ]
  },
  {
   "cell_type": "code",
   "execution_count": 20,
   "metadata": {},
   "outputs": [],
   "source": [
    "class Solution(object):\n",
    "    def combine(self, n, k):\n",
    "        \"\"\"\n",
    "        :type n: int\n",
    "        :type k: int\n",
    "        :rtype: List[List[int]]\n",
    "        \"\"\"\n",
    "        if k == 0:\n",
    "            return list()\n",
    "        ans = [[i+1] for i in range(n)]\n",
    "        for i in range(2, k+1):\n",
    "            ans = self.combineArr(ans, i, n)\n",
    "        return ans\n",
    "        \n",
    "    def combineArr(self, ans, k, n):\n",
    "        new_ans = list()\n",
    "        for i in range(len(ans)):\n",
    "            start = ans[i][-1] + 1\n",
    "            arr = ans[i]\n",
    "            while start <= n:\n",
    "                now_arr = arr + [ start ]\n",
    "                new_ans.append(now_arr)\n",
    "                start += 1\n",
    "        return new_ans\n"
   ]
  },
  {
   "cell_type": "code",
   "execution_count": 21,
   "metadata": {},
   "outputs": [
    {
     "name": "stdout",
     "output_type": "stream",
     "text": [
      "[[1, 2, 3], [1, 2, 4], [1, 3, 4], [2, 3, 4]]\n"
     ]
    }
   ],
   "source": [
    "s = Solution()\n",
    "n = 4\n",
    "k = 3\n",
    "print s.combine(n, k)"
   ]
  },
  {
   "cell_type": "markdown",
   "metadata": {},
   "source": [
    "## [78-Subsets](https://leetcode.com/problems/subsets/description/)\n",
    "\n",
    "### 问题描述\n",
    "\n",
    "给定一个**不重复**的整数集合, `nums`, 返回所有可能的子集(指数集合).\n",
    "\n",
    "**注意:** 方案集合不能包含重复的子集.\n",
    "\n",
    "**示例**\n",
    "```\n",
    "Input: nums = [1,2,3]\n",
    "Output:\n",
    "[\n",
    "  [3],\n",
    "  [1],\n",
    "  [2],\n",
    "  [1,2,3],\n",
    "  [1,3],\n",
    "  [2,3],\n",
    "  [1,2],\n",
    "  []\n",
    "]\n",
    "```\n",
    "\n",
    "### 解题思路\n",
    "\n",
    "这个题目感觉和上一题类似, `k`从`0`到`len(n)`, 将所有集合都加到一起即可.\n",
    "\n",
    "只不过需要把`combineArr`函数中间的`append`的过程修改一下, 需要把`start`的计算改一下.\n",
    "\n",
    "### 代码"
   ]
  },
  {
   "cell_type": "code",
   "execution_count": 30,
   "metadata": {},
   "outputs": [],
   "source": [
    "class Solution(object):\n",
    "    def subsets(self, nums):\n",
    "        \"\"\"\n",
    "        :type nums: List[int]\n",
    "        :rtype: List[List[int]]\n",
    "        \"\"\"\n",
    "        n = len(nums)\n",
    "        pos_dict = dict()\n",
    "        for i in range(n):\n",
    "            pos_dict[nums[i]] = i\n",
    "        total_ans = list()\n",
    "        ans = list()\n",
    "        for i in range(n+1):\n",
    "            ans = self.combineArr(ans, i, n, nums, pos_dict)\n",
    "            total_ans += ans\n",
    "        return total_ans\n",
    "        \n",
    "    def combineArr(self, ans, k, n, nums, pos_dict):\n",
    "        new_ans = list()\n",
    "        if k == 0:\n",
    "            return [[]]\n",
    "        if k == 1:\n",
    "            return [[nums[i]] for i in range(n)]\n",
    "        for i in range(len(ans)):\n",
    "            start = pos_dict[ans[i][-1]] + 1\n",
    "            arr = ans[i]\n",
    "            while start < n:\n",
    "                now_arr = arr + [nums[start]]\n",
    "                new_ans.append(now_arr)\n",
    "                start += 1\n",
    "        return new_ans"
   ]
  },
  {
   "cell_type": "code",
   "execution_count": 31,
   "metadata": {},
   "outputs": [
    {
     "name": "stdout",
     "output_type": "stream",
     "text": [
      "[[], [1], [2], [3], [1, 2], [1, 3], [2, 3], [1, 2, 3]]\n"
     ]
    }
   ],
   "source": [
    "nums = [1,2,3]\n",
    "s = Solution()\n",
    "print s.subsets(nums)"
   ]
  },
  {
   "cell_type": "markdown",
   "metadata": {},
   "source": [
    "## [79-Word Search](https://leetcode.com/problems/word-search/)\n",
    "\n",
    "### 问题描述\n",
    "\n",
    "给定一个2维的单词板和一个单词, 判断该单词是否存在于板中.\n",
    "\n",
    "该单词可以是从顺序相连的格子总共组成的, 其中相连表示横向或纵向相连. 相同的字符格不能使用超过`1`次.\n",
    "\n",
    "**示例**\n",
    "```\n",
    "board =\n",
    "[\n",
    "  ['A','B','C','E'],\n",
    "  ['S','F','C','S'],\n",
    "  ['A','D','E','E']\n",
    "]\n",
    "\n",
    "给定 word = \"ABCCED\", 返回 true.\n",
    "给定 word = \"SEE\", 返回 true.\n",
    "给定 word = \"ABCB\", 返回 false.\n",
    "```"
   ]
  },
  {
   "cell_type": "code",
   "execution_count": null,
   "metadata": {},
   "outputs": [],
   "source": []
  }
 ],
 "metadata": {
  "kernelspec": {
   "display_name": "Python 2",
   "language": "python",
   "name": "python2"
  },
  "language_info": {
   "codemirror_mode": {
    "name": "ipython",
    "version": 2
   },
   "file_extension": ".py",
   "mimetype": "text/x-python",
   "name": "python",
   "nbconvert_exporter": "python",
   "pygments_lexer": "ipython2",
   "version": "2.7.15"
  }
 },
 "nbformat": 4,
 "nbformat_minor": 2
}
