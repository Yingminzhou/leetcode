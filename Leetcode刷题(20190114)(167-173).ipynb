{
 "cells": [
  {
   "cell_type": "markdown",
   "metadata": {},
   "source": [
    "## [167. Two Sum II - Input array is sorted](https://leetcode.com/problems/two-sum-ii-input-array-is-sorted/)\n",
    "\n",
    "问题难度: &clubs;\n",
    "\n",
    "### 问题描述\n",
    "\n",
    "给定一个**升序排列**的整数数组, 找到两个数使得它们相加得到指定的值,\n",
    "\n",
    "函数`twoSum`需要返回符合条件的两个数的下标, 并且前面的下标必须小于后面的下标.\n",
    "\n",
    "**注意**\n",
    "\n",
    "- 返回的答案下标不要从`0`开始\n",
    "- 可以假设每个输入*有且仅有*一个解决方案, 并且不能同时使用*相同*的元素\n",
    "\n",
    "**示例**\n",
    "\n",
    "```\n",
    "Input: numbers = [2,7,11,15], target = 9\n",
    "Output: [1,2]\n",
    "解释: 2 和 7 的和为 9. 因此 index1 = 1, index2 = 2.\n",
    "```\n",
    "\n",
    "### 解题思路\n",
    "\n",
    "使用两个指针(`head, tail`)分别指向数组的首尾两个元素:\n",
    "当`head<tail`时:\n",
    "- 当`numbers[head] + numbers[tail] == target`时, 返回`head+1, tail+1`\n",
    "- 当`numbers[head] + numbers[tail] < target`时, 说明头部元素需要向右移动, `head = head+1`\n",
    "- 当`numbers[head] + numbers[tail] > target`时, 说明尾部元素需要向做移动, `tail = tail-1`\n",
    "\n",
    "不难得到此时的时间复杂度为`O(n)`\n",
    "\n",
    "### 代码"
   ]
  },
  {
   "cell_type": "code",
   "execution_count": 14,
   "metadata": {},
   "outputs": [],
   "source": [
    "class Solution(object):\n",
    "    def twoSum(self, numbers, target):\n",
    "        \"\"\"\n",
    "        :type numbers: List[int]\n",
    "        :type target: int\n",
    "        :rtype: List[int]\n",
    "        \"\"\"\n",
    "        head, tail = 0, len(numbers) - 1\n",
    "        while head < tail:\n",
    "            now_sum = numbers[head] + numbers[tail]\n",
    "            if now_sum == target:\n",
    "                return [head+1, tail+1]\n",
    "            elif now_sum < target:\n",
    "                head += 1\n",
    "            else:\n",
    "                tail -= 1\n",
    "        return None"
   ]
  },
  {
   "cell_type": "code",
   "execution_count": 15,
   "metadata": {},
   "outputs": [
    {
     "name": "stdout",
     "output_type": "stream",
     "text": [
      "[1, 2]\n"
     ]
    }
   ],
   "source": [
    "s = Solution()\n",
    "numbers = [2,7,11,15]\n",
    "target = 9\n",
    "print(s.twoSum(numbers, target))"
   ]
  },
  {
   "cell_type": "markdown",
   "metadata": {},
   "source": [
    "## [168. Excel Sheet Column Title](https://leetcode.com/problems/excel-sheet-column-title/)\n",
    "\n",
    "问题难度: &clubs;\n",
    "\n",
    "### 问题描述\n",
    "\n",
    "给定一个正整数, 返回其在`Excel`表格中对应的列名称.\n",
    "\n",
    "例如:\n",
    "```\n",
    "    1 -> A\n",
    "    2 -> B\n",
    "    3 -> C\n",
    "    ...\n",
    "    26 -> Z\n",
    "    27 -> AA\n",
    "    28 -> AB \n",
    "    ...\n",
    "```\n",
    "**示例1**\n",
    "```\n",
    "Input: 1\n",
    "Output: \"A\"\n",
    "```\n",
    "\n",
    "**示例2**\n",
    "```\n",
    "Input: 28\n",
    "Output: \"AB\"\n",
    "```\n",
    "\n",
    "**示例3**\n",
    "```\n",
    "Input: 701\n",
    "Output: \"ZY\"\n",
    "```\n",
    "\n",
    "### 解题思路\n",
    "\n",
    "查阅示例, 可以看出`1-26`直接对应`A-Z`,那么接下来呢? 找规律:\n",
    "\n",
    "```\n",
    "   27 / 26 = 1 -> A 27 % 26 = 1 -> A\n",
    "   28 / 26 = 1 -> A 28 % 26 = 2 -> B\n",
    "```\n",
    "\n",
    "这样就找到规律了, 如果当前数值大于`26`那么就迭代, 使用其与`26`的商和余数继续拼接. 这里需要注意一个地方: 当整数是`26`的倍数的时候, 不应该使用商进行迭代, 而应该是商减去`1`, 然后余数直接设置为`26`即可.\n",
    "\n",
    "\n",
    "### 代码\n"
   ]
  },
  {
   "cell_type": "code",
   "execution_count": 11,
   "metadata": {},
   "outputs": [],
   "source": [
    "class Solution(object):\n",
    "    \n",
    "    mark = [chr(i+ord('A')) for i in range(26)]\n",
    "    \n",
    "    def convertToTitle(self, n):\n",
    "        \"\"\"\n",
    "        :type n: int\n",
    "        :rtype: str\n",
    "        \"\"\"\n",
    "        if n > 0 and n <= len(self.mark):\n",
    "            return self.mark[n-1]\n",
    "        left = int(n / len(self.mark))\n",
    "        right = n % len(self.mark)\n",
    "        if right == 0:\n",
    "            left -= 1\n",
    "            right = len(self.mark)\n",
    "        return self.convertToTitle(left) + self.convertToTitle(right)"
   ]
  },
  {
   "cell_type": "code",
   "execution_count": 12,
   "metadata": {},
   "outputs": [
    {
     "name": "stdout",
     "output_type": "stream",
     "text": [
      "AZ\n"
     ]
    }
   ],
   "source": [
    "s = Solution()\n",
    "n = 52\n",
    "print(s.convertToTitle(n))"
   ]
  },
  {
   "cell_type": "markdown",
   "metadata": {},
   "source": [
    "## [169. Majority Element](https://leetcode.com/problems/majority-element/)\n",
    "\n",
    "问题难度: &clubs;\n",
    "\n",
    "### 问题描述\n",
    "\n",
    "给定一个长度为`n`的数组, 找到数组中的主要元素. 主要元素为出现次数**超过**[`n/2`]的元素.\n",
    "\n",
    "可以假设数组非空并且数组中总是存在一个主要元素.\n",
    "\n",
    "**示例1**\n",
    "```\n",
    "Input: [3,2,3]\n",
    "Output: 3\n",
    "```\n",
    "\n",
    "**示例2**\n",
    "```\n",
    "Input: [2,2,1,1,1,2,2]\n",
    "Output: 2\n",
    "```\n",
    "\n",
    "### 解题思路\n",
    "\n",
    "最直观的想法, 遍历数组, 然后存储每个元素的出现次数, 如果出现次数超过`n/2`,直接返回该元素即可. 时间复杂度为`O(n)`.\n",
    "\n",
    "\n",
    "### 代码"
   ]
  },
  {
   "cell_type": "code",
   "execution_count": null,
   "metadata": {},
   "outputs": [],
   "source": [
    "class Solution(object):\n",
    "    def majorityElement(self, nums):\n",
    "        \"\"\"\n",
    "        :type nums: List[int]\n",
    "        :rtype: int\n",
    "        \"\"\"\n",
    "        num_dict = dict()\n",
    "        for num in nums:\n",
    "            cnt = 1\n",
    "            if num in num_dict:\n",
    "                cnt += num_dict[num]\n",
    "            if cnt > len(nums)/2:\n",
    "                return num\n",
    "            num_dict[num] = cnt"
   ]
  },
  {
   "cell_type": "code",
   "execution_count": 7,
   "metadata": {},
   "outputs": [
    {
     "name": "stdout",
     "output_type": "stream",
     "text": [
      "3\n",
      "2\n"
     ]
    }
   ],
   "source": [
    "s = Solution()\n",
    "nums = [3,2,3]\n",
    "print(s.majorityElement(nums))\n",
    "nums = [2,2,1,1,1,2,2]\n",
    "print(s.majorityElement(nums))"
   ]
  },
  {
   "cell_type": "markdown",
   "metadata": {},
   "source": [
    "## [170. Two Sum III - Data structure design](https://leetcode.com/problems/two-sum-iii-data-structure-design/)\n",
    "\n",
    "问题难度: &clubs\n",
    "\n",
    "### 问题描述\n",
    "\n",
    "设计并实现一个`TwoSum`的类, 它应该支持以下两个操作: `add`和`find`.\n",
    "\n",
    "- `add`: 向内部的数据结构中增加一个数\n",
    "- `find`: 找到是否存在一个数字对使得它们的和等于给定的值\n",
    "\n",
    "例如:\n",
    "```\n",
    "add(1); add(3); add(5); \n",
    "find(4) -> true \n",
    "find(7) -> false\n",
    "```"
   ]
  },
  {
   "cell_type": "code",
   "execution_count": null,
   "metadata": {},
   "outputs": [],
   "source": []
  }
 ],
 "metadata": {
  "kernelspec": {
   "display_name": "Python 3",
   "language": "python",
   "name": "python3"
  },
  "language_info": {
   "codemirror_mode": {
    "name": "ipython",
    "version": 3
   },
   "file_extension": ".py",
   "mimetype": "text/x-python",
   "name": "python",
   "nbconvert_exporter": "python",
   "pygments_lexer": "ipython3",
   "version": "3.7.0"
  }
 },
 "nbformat": 4,
 "nbformat_minor": 2
}
