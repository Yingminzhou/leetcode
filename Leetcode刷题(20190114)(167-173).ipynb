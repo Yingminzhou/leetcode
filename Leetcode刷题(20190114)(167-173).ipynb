{
 "cells": [
  {
   "cell_type": "markdown",
   "metadata": {},
   "source": [
    "## [167. Two Sum II - Input array is sorted](https://leetcode.com/problems/two-sum-ii-input-array-is-sorted/)\n",
    "\n",
    "问题难度: &clubs;\n",
    "\n",
    "### 问题描述\n",
    "\n",
    "给定一个**升序排列**的整数数组, 找到两个数使得它们相加得到指定的值,\n",
    "\n",
    "函数`twoSum`需要返回符合条件的两个数的下标, 并且前面的下标必须小于后面的下标.\n",
    "\n",
    "**注意**\n",
    "\n",
    "- 返回的答案下标不要从`0`开始\n",
    "- 可以假设每个输入*有且仅有*一个解决方案, 并且不能同时使用*相同*的元素\n",
    "\n",
    "**示例**\n",
    "\n",
    "```\n",
    "Input: numbers = [2,7,11,15], target = 9\n",
    "Output: [1,2]\n",
    "解释: 2 和 7 的和为 9. 因此 index1 = 1, index2 = 2.\n",
    "```\n",
    "\n",
    "### 解题思路\n",
    "\n",
    "使用两个指针(`head, tail`)分别指向数组的首尾两个元素:\n",
    "当`head<tail`时:\n",
    "- 当`numbers[head] + numbers[tail] == target`时, 返回`head+1, tail+1`\n",
    "- 当`numbers[head] + numbers[tail] < target`时, 说明头部元素需要向右移动, `head = head+1`\n",
    "- 当`numbers[head] + numbers[tail] > target`时, 说明尾部元素需要向做移动, `tail = tail-1`\n",
    "\n",
    "不难得到此时的时间复杂度为`O(n)`\n",
    "\n",
    "### 代码"
   ]
  },
  {
   "cell_type": "code",
   "execution_count": 14,
   "metadata": {},
   "outputs": [],
   "source": [
    "class Solution(object):\n",
    "    def twoSum(self, numbers, target):\n",
    "        \"\"\"\n",
    "        :type numbers: List[int]\n",
    "        :type target: int\n",
    "        :rtype: List[int]\n",
    "        \"\"\"\n",
    "        head, tail = 0, len(numbers) - 1\n",
    "        while head < tail:\n",
    "            now_sum = numbers[head] + numbers[tail]\n",
    "            if now_sum == target:\n",
    "                return [head+1, tail+1]\n",
    "            elif now_sum < target:\n",
    "                head += 1\n",
    "            else:\n",
    "                tail -= 1\n",
    "        return None"
   ]
  },
  {
   "cell_type": "code",
   "execution_count": 15,
   "metadata": {},
   "outputs": [
    {
     "name": "stdout",
     "output_type": "stream",
     "text": [
      "[1, 2]\n"
     ]
    }
   ],
   "source": [
    "s = Solution()\n",
    "numbers = [2,7,11,15]\n",
    "target = 9\n",
    "print(s.twoSum(numbers, target))"
   ]
  },
  {
   "cell_type": "markdown",
   "metadata": {},
   "source": [
    "## [168. Excel Sheet Column Title](https://leetcode.com/problems/excel-sheet-column-title/)\n",
    "\n",
    "问题难度: &clubs;\n",
    "\n",
    "### 问题描述\n",
    "\n",
    "给定一个正整数, 返回其在`Excel`表格中对应的列名称.\n",
    "\n",
    "例如:\n",
    "```\n",
    "    1 -> A\n",
    "    2 -> B\n",
    "    3 -> C\n",
    "    ...\n",
    "    26 -> Z\n",
    "    27 -> AA\n",
    "    28 -> AB \n",
    "    ...\n",
    "```\n",
    "**示例1**\n",
    "```\n",
    "Input: 1\n",
    "Output: \"A\"\n",
    "```\n",
    "\n",
    "**示例2**\n",
    "```\n",
    "Input: 28\n",
    "Output: \"AB\"\n",
    "```\n",
    "\n",
    "**示例3**\n",
    "```\n",
    "Input: 701\n",
    "Output: \"ZY\"\n",
    "```\n",
    "\n",
    "### 解题思路\n",
    "\n",
    "查阅示例, 可以看出`1-26`直接对应`A-Z`,那么接下来呢? 找规律:\n",
    "\n",
    "```\n",
    "   27 / 26 = 1 -> A 27 % 26 = 1 -> A\n",
    "   28 / 26 = 1 -> A 28 % 26 = 2 -> B\n",
    "```\n",
    "\n",
    "这样就找到规律了, 如果当前数值大于`26`那么就迭代, 使用其与`26`的商和余数继续拼接. 这里需要注意一个地方: 当整数是`26`的倍数的时候, 不应该使用商进行迭代, 而应该是商减去`1`, 然后余数直接设置为`26`即可.\n",
    "\n",
    "\n",
    "### 代码\n"
   ]
  },
  {
   "cell_type": "code",
   "execution_count": 11,
   "metadata": {},
   "outputs": [],
   "source": [
    "class Solution(object):\n",
    "    \n",
    "    mark = [chr(i+ord('A')) for i in range(26)]\n",
    "    \n",
    "    def convertToTitle(self, n):\n",
    "        \"\"\"\n",
    "        :type n: int\n",
    "        :rtype: str\n",
    "        \"\"\"\n",
    "        if n > 0 and n <= len(self.mark):\n",
    "            return self.mark[n-1]\n",
    "        left = int(n / len(self.mark))\n",
    "        right = n % len(self.mark)\n",
    "        if right == 0:\n",
    "            left -= 1\n",
    "            right = len(self.mark)\n",
    "        return self.convertToTitle(left) + self.convertToTitle(right)"
   ]
  },
  {
   "cell_type": "code",
   "execution_count": 12,
   "metadata": {},
   "outputs": [
    {
     "name": "stdout",
     "output_type": "stream",
     "text": [
      "AZ\n"
     ]
    }
   ],
   "source": [
    "s = Solution()\n",
    "n = 52\n",
    "print(s.convertToTitle(n))"
   ]
  },
  {
   "cell_type": "markdown",
   "metadata": {},
   "source": [
    "## [169. Majority Element](https://leetcode.com/problems/majority-element/)\n",
    "\n",
    "问题难度: &clubs;\n",
    "\n",
    "### 问题描述\n",
    "\n",
    "给定一个长度为`n`的数组, 找到数组中的主要元素. 主要元素为出现次数**超过**[`n/2`]的元素.\n",
    "\n",
    "可以假设数组非空并且数组中总是存在一个主要元素.\n",
    "\n",
    "**示例1**\n",
    "```\n",
    "Input: [3,2,3]\n",
    "Output: 3\n",
    "```\n",
    "\n",
    "**示例2**\n",
    "```\n",
    "Input: [2,2,1,1,1,2,2]\n",
    "Output: 2\n",
    "```\n",
    "\n",
    "### 解题思路\n",
    "\n",
    "最直观的想法, 遍历数组, 然后存储每个元素的出现次数, 如果出现次数超过`n/2`,直接返回该元素即可. 时间复杂度为`O(n)`.\n",
    "\n",
    "\n",
    "### 代码"
   ]
  },
  {
   "cell_type": "code",
   "execution_count": null,
   "metadata": {},
   "outputs": [],
   "source": [
    "class Solution(object):\n",
    "    def majorityElement(self, nums):\n",
    "        \"\"\"\n",
    "        :type nums: List[int]\n",
    "        :rtype: int\n",
    "        \"\"\"\n",
    "        num_dict = dict()\n",
    "        for num in nums:\n",
    "            cnt = 1\n",
    "            if num in num_dict:\n",
    "                cnt += num_dict[num]\n",
    "            if cnt > len(nums)/2:\n",
    "                return num\n",
    "            num_dict[num] = cnt"
   ]
  },
  {
   "cell_type": "code",
   "execution_count": 7,
   "metadata": {},
   "outputs": [
    {
     "name": "stdout",
     "output_type": "stream",
     "text": [
      "3\n",
      "2\n"
     ]
    }
   ],
   "source": [
    "s = Solution()\n",
    "nums = [3,2,3]\n",
    "print(s.majorityElement(nums))\n",
    "nums = [2,2,1,1,1,2,2]\n",
    "print(s.majorityElement(nums))"
   ]
  },
  {
   "cell_type": "markdown",
   "metadata": {},
   "source": [
    "## [170. Two Sum III - Data structure design](https://leetcode.com/problems/two-sum-iii-data-structure-design/)\n",
    "\n",
    "问题难度: &clubs;\n",
    "\n",
    "### 问题描述\n",
    "\n",
    "设计并实现一个`TwoSum`的类, 它应该支持以下两个操作: `add`和`find`.\n",
    "\n",
    "- `add`: 向内部的数据结构中增加一个数\n",
    "- `find`: 找到是否存在一个数字对使得它们的和等于给定的值\n",
    "\n",
    "例如:\n",
    "```\n",
    "add(1); add(3); add(5); \n",
    "find(4) -> true \n",
    "find(7) -> false\n",
    "```\n",
    "\n",
    "### 解题思路\n",
    "\n",
    "使用一个`dict`来存储数据, 用来记录数字出现的次数, `add()`的时候直接更新次数即可, `find`时遍历`dict`, 针对每个`num`, 判断`target-num`是否在`dict`中, 如果在, 则返回`true`,否则返回`false`. 如果出现`num = target - num`的情况, 判断其次数是否大于`1`即可.\n",
    "\n",
    "### 代码"
   ]
  },
  {
   "cell_type": "code",
   "execution_count": 1,
   "metadata": {},
   "outputs": [],
   "source": [
    "class TwoSum(object):\n",
    "\n",
    "    def __init__(self):\n",
    "        \"\"\"\n",
    "        initialize your data structure here\n",
    "        \"\"\"\n",
    "        self.data_dict = dict()\n",
    "\n",
    "    def add(self, number):\n",
    "        \"\"\"\n",
    "        Add the number to an internal data structure.\n",
    "        :rtype: nothing\n",
    "        \"\"\"\n",
    "        cnt = 1\n",
    "        if number in self.data_dict:\n",
    "            cnt += self.data_dict[number]\n",
    "        self.data_dict[number] = cnt\n",
    "\n",
    "    def find(self, value):\n",
    "        \"\"\"\n",
    "        Find if there exists any pair of numbers which sum is equal to the value.\n",
    "        :type value: int\n",
    "        :rtype: bool\n",
    "        \"\"\"\n",
    "        for number in self.data_dict:\n",
    "            target = value - number\n",
    "            if target == number:\n",
    "                # 判断出现次数是否大于1\n",
    "                if self.data_dict[target] > 1:\n",
    "                    return True\n",
    "            else:\n",
    "                # 判断是否存在\n",
    "                if target in self.data_dict:\n",
    "                    return True\n",
    "        return False"
   ]
  },
  {
   "cell_type": "code",
   "execution_count": 3,
   "metadata": {},
   "outputs": [
    {
     "name": "stdout",
     "output_type": "stream",
     "text": [
      "True\n",
      "False\n"
     ]
    }
   ],
   "source": [
    "# Your TwoSum object will be instantiated and called as such:\n",
    "twoSum = TwoSum()\n",
    "twoSum.add(1)\n",
    "twoSum.add(3)\n",
    "twoSum.add(5)\n",
    "print(twoSum.find(4))\n",
    "print(twoSum.find(7))"
   ]
  },
  {
   "cell_type": "markdown",
   "metadata": {},
   "source": [
    "## [171. Excel Sheet Column Number](https://leetcode.com/problems/excel-sheet-column-number/)\n",
    "\n",
    "问题难度: &clubs; \n",
    "\n",
    "### 问题描述\n",
    "\n",
    "给定一个`Excel`表格中出现的列名, 返回其对应的列数.\n",
    "\n",
    "例如:\n",
    "\n",
    "```\n",
    "    A -> 1\n",
    "    B -> 2\n",
    "    C -> 3\n",
    "    ...\n",
    "    Z -> 26\n",
    "    AA -> 27\n",
    "    AB -> 28 \n",
    "    ...\n",
    "```\n",
    "\n",
    "**示例1**\n",
    "```\n",
    "Input: \"A\"\n",
    "Output: 1\n",
    "```\n",
    "**示例2**\n",
    "```\n",
    "Input: \"AB\"\n",
    "Output: 28\n",
    "```\n",
    "**示例3**\n",
    "```\n",
    "Input: \"ZY\"\n",
    "Output: 701\n",
    "```\n",
    "### 解题思路\n",
    "\n",
    "这道题目应该是第`168`题的镜像题目. `A-Z`的就不用说了, 直接找对应关系即可, 当列名长度超过`1`时, 找一下规律:\n",
    "\n",
    "```\n",
    " AB -- A=1 B=2 AB=A*26+B=28\n",
    " ZY -- Z=26 Y=25 ZY=Z*26+Y=701\n",
    " ABA -- A=1 B=2 A=1 AAB=A*26*26+B*26+A=729\n",
    "```\n",
    "不难发现, 在前面的数需要乘以26的倍数, 这样, 代码也写出来了.\n",
    "\n",
    "### 代码"
   ]
  },
  {
   "cell_type": "code",
   "execution_count": 10,
   "metadata": {},
   "outputs": [],
   "source": [
    "class Solution(object):\n",
    "    \n",
    "    def titleToNumber(self, s):\n",
    "        \"\"\"\n",
    "        :type s: str\n",
    "        :rtype: int\n",
    "        \"\"\"\n",
    "        # 初始化映射关系\n",
    "        char_dict = dict()\n",
    "        for i in range(26):\n",
    "            char_dict[chr(i+ord('A'))] = i + 1\n",
    "        #遍历列名\n",
    "        num, base = 0, 1\n",
    "        for i in range(len(s)):\n",
    "            char_idx = len(s) - i - 1\n",
    "            char = s[char_idx]\n",
    "            num += char_dict[char] * base\n",
    "            base = base * 26\n",
    "        return num\n",
    "        "
   ]
  },
  {
   "cell_type": "code",
   "execution_count": 9,
   "metadata": {},
   "outputs": [
    {
     "name": "stdout",
     "output_type": "stream",
     "text": [
      "1\n",
      "701\n",
      "729\n",
      "52\n"
     ]
    }
   ],
   "source": [
    "sl = Solution()\n",
    "\n",
    "title = \"A\"\n",
    "print(sl.titleToNumber(title))\n",
    "\n",
    "title = \"ZY\"\n",
    "print(sl.titleToNumber(title))\n",
    "\n",
    "title = \"ABA\"\n",
    "print(sl.titleToNumber(title))\n",
    "\n",
    "title = \"AZ\"\n",
    "print(sl.titleToNumber(title))"
   ]
  },
  {
   "cell_type": "code",
   "execution_count": null,
   "metadata": {},
   "outputs": [],
   "source": []
  }
 ],
 "metadata": {
  "kernelspec": {
   "display_name": "Python 2",
   "language": "python",
   "name": "python2"
  },
  "language_info": {
   "codemirror_mode": {
    "name": "ipython",
    "version": 2
   },
   "file_extension": ".py",
   "mimetype": "text/x-python",
   "name": "python",
   "nbconvert_exporter": "python",
   "pygments_lexer": "ipython2",
   "version": "2.7.15"
  }
 },
 "nbformat": 4,
 "nbformat_minor": 2
}
