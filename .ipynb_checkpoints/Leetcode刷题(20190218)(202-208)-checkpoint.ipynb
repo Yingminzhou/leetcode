{
 "cells": [
  {
   "cell_type": "markdown",
   "metadata": {},
   "source": [
    "## [202. Happy Number](https://leetcode.com/problems/happy-number/)\n",
    "\n",
    "问题难度: &clubs;\n",
    "\n",
    "### 问题描述\n",
    "\n",
    "写一个算法确定数字是否\"快乐\".\n",
    "\n",
    "\"快乐数\"的定义过程如下: 以任意正整数开头, 将数字替换为各个位数的平方和, 然后重复这个过程直到数字等于`1`, 或者无限循环不包含`1`. 以这个过程结束的数字为\"快乐数\".\n",
    "```\n",
    "Example: \n",
    "\n",
    "Input: 19\n",
    "Output: true\n",
    "Explanation: \n",
    "1^2 + 9^2 = 82\n",
    "8^2 + 2^2 = 68\n",
    "6^2 + 8^2 = 100\n",
    "1^2 + 0^2 + 0^2 = 1\n",
    "```\n",
    "\n",
    "### 解题思路\n",
    "\n",
    "看懂了它们的定义即可. 针对数字`num`, 当`num != 0`时:\n",
    "\n",
    "- `cur = num % 10, sum += cur ^2`\n",
    "- `num = num / 10`\n",
    "\n",
    "每次判断下`sum`是否等于`1`, 或者是否已经出现.\n",
    "\n",
    "### 代码"
   ]
  },
  {
   "cell_type": "code",
   "execution_count": 17,
   "metadata": {},
   "outputs": [],
   "source": [
    "class Solution(object):\n",
    "    def isHappy(self, n):\n",
    "        \"\"\"\n",
    "        :type n: int\n",
    "        :rtype: bool\n",
    "        \"\"\"\n",
    "        def nextNum(num):\n",
    "            num_sum = 0\n",
    "            while num != 0:\n",
    "                cur = num % 10\n",
    "                num_sum += cur * cur\n",
    "                num = num / 10\n",
    "            return num_sum\n",
    "        data_dict = dict()\n",
    "        while True:\n",
    "            n = nextNum(n)\n",
    "            if n == 1:\n",
    "                return True\n",
    "            elif n in data_dict:\n",
    "                return False\n",
    "            data_dict[n] = 1"
   ]
  },
  {
   "cell_type": "code",
   "execution_count": 18,
   "metadata": {},
   "outputs": [
    {
     "name": "stdout",
     "output_type": "stream",
     "text": [
      "True\n",
      "False\n"
     ]
    }
   ],
   "source": [
    "s = Solution()\n",
    "n = 19\n",
    "print(s.isHappy(n))\n",
    "n = 18\n",
    "print(s.isHappy(n))"
   ]
  },
  {
   "cell_type": "markdown",
   "metadata": {},
   "source": [
    "## [203. Remove Linked List Elements](https://leetcode.com/problems/remove-linked-list-elements/)\n",
    "\n",
    "问题难度: &clubs;\n",
    "\n",
    "### 问题描述\n",
    "\n",
    "删除链表中所有值为`val`的元素.\n",
    "\n",
    "**示例**\n",
    "```\n",
    "Input:  1->2->6->3->4->5->6, val = 6\n",
    "Output: 1->2->3->4->5\n",
    "```\n",
    "\n",
    "### 解题思路\n",
    "\n",
    "从前往后遍历, 使用两个指针, 分别为前序节点和当前节点, 如果当前节点的值为`val`, 那么将当前节点指向当前节点的`next`, 并且将前序节点的`next`移动到当前节点, 再继续往前遍历即可. **需要特别注意当碰到连续`val`时需要继续遍历, 直到节点值不为`val`为止.**\n",
    "\n",
    "### 代码"
   ]
  },
  {
   "cell_type": "code",
   "execution_count": 20,
   "metadata": {},
   "outputs": [],
   "source": [
    "# Definition for singly-linked list.\n",
    "# class ListNode(object):\n",
    "#     def __init__(self, x):\n",
    "#         self.val = x\n",
    "#         self.next = None\n",
    "\n",
    "class Solution(object):\n",
    "    def removeElements(self, head, val):\n",
    "        \"\"\"\n",
    "        :type head: ListNode\n",
    "        :type val: int\n",
    "        :rtype: ListNode\n",
    "        \"\"\"\n",
    "        dummpy = ListNode(0)\n",
    "        dummpy.next = head\n",
    "        pre = dummpy\n",
    "        while head is not None:\n",
    "            while head is not None and head.val == val:\n",
    "                #如果节点的值等于目标值\n",
    "                head = head.next\n",
    "            pre.next = head\n",
    "            if head is not None:\n",
    "                pre = pre.next\n",
    "                head = head.next\n",
    "        return dummpy.next"
   ]
  },
  {
   "cell_type": "markdown",
   "metadata": {},
   "source": [
    "## [204. Count Primes](https://leetcode.com/problems/count-primes/)\n",
    "\n",
    "问题难度: &clubs;\n",
    "\n",
    "### 问题描述\n",
    "\n",
    "计算小于`num`数的质数个数.\n",
    "\n",
    "**示例**\n",
    "```\n",
    "Input: 10\n",
    "Output: 4\n",
    "解释: 有4个小于10的质数: 2, 3, 5, 7.\n",
    "```\n",
    "\n",
    "### 解题思路\n",
    "\n",
    "首先, 思考怎么判断一个数为质数: 除了`1`个它本身没别的整除数的整数. 所以逐个遍历即可. 然后...这种方法的时间复杂度果然超了...\n",
    "\n",
    "参考了以下讨论区的做法, 使用一个数组来存储该数是否为质数, 对于当前值, 如果其为质数, 那么就更新它的倍数, 从`i*i`到`n`, 每次增加`i`. 最后求`sum`的总数即可.\n",
    "\n",
    "### 代码"
   ]
  },
  {
   "cell_type": "code",
   "execution_count": 5,
   "metadata": {},
   "outputs": [],
   "source": [
    "class Solution(object):\n",
    "    def countPrimes(self, n):\n",
    "        \"\"\"\n",
    "        :type n: int\n",
    "        :rtype: int\n",
    "        \"\"\"\n",
    "        def check(num):\n",
    "            max_num = num // 2\n",
    "            for i in range(2, max_num + 1):\n",
    "                if num % i == 0:\n",
    "                    return False\n",
    "            return True\n",
    "        count = 0\n",
    "        for i in range(2, n+1):\n",
    "            if check(i):\n",
    "                count += 1\n",
    "        return count\n",
    "    \n",
    "    def countPrimesArr(self, n):\n",
    "        \"\"\"\n",
    "        :type n: int\n",
    "        :rtype: int\n",
    "        \"\"\"\n",
    "        if n < 3:\n",
    "            return 0\n",
    "        primes = [True] * n\n",
    "        primes[0], primes[1] = False, False\n",
    "        for i in range(2, n//2 + 1):\n",
    "            if primes[i]:\n",
    "                # start_idx, end_idx, steps\n",
    "                primes[i*i : n : i] = [False] * len(primes[i*i: n: i])\n",
    "        return sum(primes)"
   ]
  },
  {
   "cell_type": "code",
   "execution_count": 6,
   "metadata": {},
   "outputs": [
    {
     "name": "stdout",
     "output_type": "stream",
     "text": [
      "4\n",
      "4\n"
     ]
    }
   ],
   "source": [
    "s = Solution()\n",
    "n = 10\n",
    "print(s.countPrimes(n))\n",
    "n = 10\n",
    "print(s.countPrimesArr(n))"
   ]
  },
  {
   "cell_type": "markdown",
   "metadata": {},
   "source": [
    "## [205. Isomorphic Strings](https://leetcode.com/problems/isomorphic-strings/)\n",
    "\n",
    "问题难度: &clubs;\n",
    "\n",
    "### 问题描述\n",
    "\n",
    "给定两个字符串`s`和`t`, 判断他们是否为同构的.\n",
    "\n",
    "如果替换`s`中的字符可以得到`t`, 那么这两个字符串就是同构的.\n",
    "\n",
    "在保持字符串顺序的同时, 必须同时替换该字符串中所有的字符, 两个不同的字符无法映射到相同的字符, 但是一个字符可以映射到它自己.\n",
    "\n",
    "**示例1**\n",
    "```\n",
    "Input: s = \"egg\", t = \"add\"\n",
    "Output: true\n",
    "```\n",
    "\n",
    "**示例2**\n",
    "```\n",
    "Input: s = \"foo\", t = \"bar\"\n",
    "Output: false\n",
    "```\n",
    "\n",
    "**示例3**\n",
    "```\n",
    "Input: s = \"paper\", t = \"title\"\n",
    "Output: true\n",
    "```\n",
    "\n",
    "**注意**:\n",
    "可以假设`s`和`t`长度相同."
   ]
  },
  {
   "cell_type": "code",
   "execution_count": null,
   "metadata": {},
   "outputs": [],
   "source": []
  }
 ],
 "metadata": {
  "kernelspec": {
   "display_name": "Python 2",
   "language": "python",
   "name": "python2"
  },
  "language_info": {
   "codemirror_mode": {
    "name": "ipython",
    "version": 2
   },
   "file_extension": ".py",
   "mimetype": "text/x-python",
   "name": "python",
   "nbconvert_exporter": "python",
   "pygments_lexer": "ipython2",
   "version": "2.7.15"
  }
 },
 "nbformat": 4,
 "nbformat_minor": 2
}
