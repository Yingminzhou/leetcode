{
 "cells": [
  {
   "cell_type": "markdown",
   "metadata": {},
   "source": [
    "## [103-Binary Tree Zigzag Level Order Traversal](https://leetcode.com/problems/binary-tree-zigzag-level-order-traversal/description/)\n",
    "\n",
    "问题难度: &clubs; &clubs; &clubs;\n",
    "\n",
    "### 问题描述\n",
    "\n",
    "给定一个二叉树, 返回*z字形层次顺序* 遍历的节点值(例如, 从左到右,然后下一次从右到左, 接着进行交替).\n",
    "\n",
    "例如:给定一个二叉树`[3,9,20,null,null,15,7]`:\n",
    "```\n",
    "    3\n",
    "   / \\\n",
    "  9  20\n",
    "    /  \\\n",
    "   15   7\n",
    "```\n",
    "返回其`z`字形层次顺序遍历的结果为:\n",
    "```\n",
    "[\n",
    "  [3],\n",
    "  [20,9],\n",
    "  [15,7]\n",
    "]\n",
    "```\n",
    "\n",
    "### 解题思路\n",
    "\n",
    "这一题和上周的题目类似, 只不过加了一个条件: `z`字形, 分析一下, 针对第`n`层(从`0`开始计数), :\n",
    "\n",
    "- `n%2==0`时, 下一层需要从右到左\n",
    "- `n%2==1`时, 下一次需要从左到右\n",
    "\n",
    "可以根据当前`len(total_ans)`来进行区分.\n",
    "\n",
    "### 代码"
   ]
  },
  {
   "cell_type": "code",
   "execution_count": 2,
   "metadata": {},
   "outputs": [],
   "source": [
    "# Definition for a binary tree node.\n",
    "# class TreeNode(object):\n",
    "#     def __init__(self, x):\n",
    "#         self.val = x\n",
    "#         self.left = None\n",
    "#         self.right = None\n",
    "\n",
    "class Solution(object):\n",
    "    def zigzagLevelOrder(self, root):\n",
    "        \"\"\"\n",
    "        :type root: TreeNode\n",
    "        :rtype: List[List[int]]\n",
    "        \"\"\"\n",
    "        if root is None:\n",
    "            return []\n",
    "        total_ans = [[root.val]]\n",
    "        stack = [root.left, root.right]\n",
    "        next_stack = stack\n",
    "        while len(next_stack) > 0:\n",
    "            next_stack = list()\n",
    "            ans = list()\n",
    "            is_left = True if (len(total_ans) % 2 == 0) else False\n",
    "            for i in range(len(stack)):\n",
    "                cur_node = stack[i]\n",
    "                if cur_node is not None:\n",
    "                    if is_left:\n",
    "                        ans.append(cur_node.val)\n",
    "                    else:\n",
    "                        ans = [cur_node.val] + ans\n",
    "                    next_stack.append(cur_node.left)\n",
    "                    next_stack.append(cur_node.right)\n",
    "            \n",
    "            stack = next_stack\n",
    "            if len(ans) > 0:\n",
    "                total_ans.append(ans)\n",
    "        return total_ans"
   ]
  },
  {
   "cell_type": "code",
   "execution_count": null,
   "metadata": {},
   "outputs": [],
   "source": []
  }
 ],
 "metadata": {
  "kernelspec": {
   "display_name": "Python 2",
   "language": "python",
   "name": "python2"
  },
  "language_info": {
   "codemirror_mode": {
    "name": "ipython",
    "version": 2
   },
   "file_extension": ".py",
   "mimetype": "text/x-python",
   "name": "python",
   "nbconvert_exporter": "python",
   "pygments_lexer": "ipython2",
   "version": "2.7.15"
  }
 },
 "nbformat": 4,
 "nbformat_minor": 2
}
