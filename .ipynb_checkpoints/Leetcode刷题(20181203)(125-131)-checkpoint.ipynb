{
 "cells": [
  {
   "cell_type": "markdown",
   "metadata": {},
   "source": [
    "## [125-Valid Palindrome](https://leetcode.com/problems/valid-palindrome/)\n",
    "\n",
    "问题难度： &clubs;\n",
    "\n",
    "### 问题描述\n",
    "\n",
    "给定一个字符串， 判断其是一个回文，只考虑字母数字字符，忽略符号。\n",
    "\n",
    "**注意：在这个问题中，我们将空字符串定义为一个回文。**\n",
    "\n",
    "**示例1**\n",
    "```\n",
    "Input: \"A man, a plan, a canal: Panama\"\n",
    "Output: true\n",
    "```\n",
    "\n",
    "**示例2**\n",
    "```\n",
    "Input: \"race a car\"\n",
    "Output: false\n",
    "```\n",
    "\n",
    "### 解题思路\n",
    "\n",
    "**解法1： 递归法**\n",
    "\n",
    "针对当前字符串\n",
    "- 如果字符串的长度小于等于`1`，那么直接返回`true`\n",
    "- 取字符串的首尾分别为`start`和`end`\n",
    "  - 如果`start`为空格或者符号，那么`s=s[1:]`，递归调用\n",
    "  - 如果`end`为空格或者符号，那么`s=[:-1]`，递归调用\n",
    "  - 否则，返回`s[0] == s[-1]`并且`s=[1:-1]`，递归调用\n",
    "  \n",
    "然后，这个方法超过内存限制了...分析下原因，应该是在字符串长度很长的时候，递归会占用太多内存.\n",
    "\n",
    "**解法2：遍历法**\n",
    "\n",
    "使用两个指针（`i`和`j`），分别指向字符串的前后，当`i<j`时：\n",
    "- 当`i<j and not s[i].isalnum`时， `i+=1`\n",
    "- 当`i<j and not s[j].isalnum`时， `j-=1`\n",
    "- 如果`s[i] == s[j]`, `i+=1, j-= 1`\n",
    "- 否则，直接返回`false`\n",
    "\n",
    "最后直接返回`true`\n",
    "\n",
    "这个方法的时间复杂度为`O(n)`，空间复杂都为`O(1)`\n",
    "\n",
    "### 代码"
   ]
  },
  {
   "cell_type": "code",
   "execution_count": 2,
   "metadata": {},
   "outputs": [],
   "source": [
    "class Solution(object):\n",
    "    def isPalindrome(self, s):\n",
    "        \"\"\"\n",
    "        :type s: str\n",
    "        :rtype: bool\n",
    "        \"\"\"\n",
    "        i, j = 0, len(s)-1\n",
    "        while i < j:\n",
    "            while i < j and not s[i].isalnum():\n",
    "                i += 1\n",
    "            while i < j and not s[j].isalnum():\n",
    "                j -= 1\n",
    "            if s[i].lower() != s[j].lower():\n",
    "                return False\n",
    "            i += 1\n",
    "            j -= 1\n",
    "        return True"
   ]
  },
  {
   "cell_type": "code",
   "execution_count": null,
   "metadata": {},
   "outputs": [],
   "source": []
  }
 ],
 "metadata": {
  "kernelspec": {
   "display_name": "Python 3",
   "language": "python",
   "name": "python3"
  },
  "language_info": {
   "codemirror_mode": {
    "name": "ipython",
    "version": 3
   },
   "file_extension": ".py",
   "mimetype": "text/x-python",
   "name": "python",
   "nbconvert_exporter": "python",
   "pygments_lexer": "ipython3",
   "version": "3.7.0"
  }
 },
 "nbformat": 4,
 "nbformat_minor": 2
}
