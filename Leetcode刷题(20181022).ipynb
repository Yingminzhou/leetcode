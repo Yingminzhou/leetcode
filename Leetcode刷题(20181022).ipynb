{
 "cells": [
  {
   "cell_type": "markdown",
   "metadata": {},
   "source": [
    "# Leetcode刷题(20181022)"
   ]
  },
  {
   "cell_type": "markdown",
   "metadata": {},
   "source": [
    "## [82-Remove Duplicates from Sorted List II](https://leetcode.com/problems/remove-duplicates-from-sorted-list-ii/description/)\n",
    "\n",
    "### 问题描述\n",
    "\n",
    "给定一个排好序的链式列表, 删除所有有重复节点的数字, 只留下原始链表中的*唯一*字符.\n",
    "\n",
    "**示例1**\n",
    "```\n",
    "Input: 1->2->3->3->4->4->5\n",
    "Output: 1->2->5\n",
    "```\n",
    "\n",
    "**示例2**\n",
    "```\n",
    "Input: 1->1->1->2->3\n",
    "Output: 2->3\n",
    "```\n",
    "\n",
    "### 解题思路\n",
    "\n",
    "本质思想与之前删除数组中重复的数字类似, 只不过把存储格式从数组换成了链表. 在这里,我们使用了三个指针, 分别标识:\n",
    "- 新链表当前元素, 用于移动元素, 如果某个数字不重复,则将该结点加入到新链表中,并将链表前移动;如果重复的话,暂时将链表的`next`指向下一个结点\n",
    "- 原链表前元素, 判断元素是否重复,至少需要比较两个结点, 便于在数字不重复的情况下将其加入新链表\n",
    "- 原链表后后元素, 用于判断元素是否与之前的节点数值相同\n",
    "\n",
    "### 代码"
   ]
  },
  {
   "cell_type": "code",
   "execution_count": 1,
   "metadata": {},
   "outputs": [],
   "source": [
    "# Definition for singly-linked list.\n",
    "class ListNode(object):\n",
    "    def __init__(self, x):\n",
    "        self.val = x\n",
    "        self.next = None\n",
    "\n",
    "\n",
    "class Solution(object):\n",
    "    def deleteDuplicates(self, head):\n",
    "        \"\"\"\n",
    "        :type head: ListNode\n",
    "        :rtype: ListNode\n",
    "        \"\"\"\n",
    "        if head is None or head.next is None:\n",
    "            return head\n",
    "        ans = ListNode(0)\n",
    "        tmp = ListNode(0)\n",
    "        now, end = head, head.next\n",
    "        now_num = now.val\n",
    "        ans.next = tmp\n",
    "        is_dup = False\n",
    "        while end is not None:\n",
    "            while end is not None and end.val == now_num:\n",
    "                is_dup = True\n",
    "                end = end.next\n",
    "            if not is_dup:\n",
    "                tmp.next = now\n",
    "                tmp = tmp.next\n",
    "            else:\n",
    "                tmp.next = end\n",
    "            if end is not None:\n",
    "                now = end\n",
    "                now_num = now.val\n",
    "                is_dup = False\n",
    "                end = end.next\n",
    "        return ans.next.next"
   ]
  },
  {
   "cell_type": "code",
   "execution_count": 3,
   "metadata": {},
   "outputs": [
    {
     "name": "stdout",
     "output_type": "stream",
     "text": [
      "1\n",
      "2\n",
      "4\n"
     ]
    }
   ],
   "source": [
    "a = ListNode(1)\n",
    "b = ListNode(2)\n",
    "c = ListNode(3)\n",
    "d = ListNode(3)\n",
    "e = ListNode(3)\n",
    "f = ListNode(4)\n",
    "\n",
    "a.next = b\n",
    "b.next = c\n",
    "c.next = d\n",
    "d.next = e\n",
    "e.next = f\n",
    "\n",
    "s = Solution()\n",
    "res = s.deleteDuplicates(a)\n",
    "while res is not None:\n",
    "    print(res.val)\n",
    "    res = res.next"
   ]
  },
  {
   "cell_type": "code",
   "execution_count": null,
   "metadata": {},
   "outputs": [],
   "source": []
  }
 ],
 "metadata": {
  "kernelspec": {
   "display_name": "Python 3",
   "language": "python",
   "name": "python3"
  },
  "language_info": {
   "codemirror_mode": {
    "name": "ipython",
    "version": 3
   },
   "file_extension": ".py",
   "mimetype": "text/x-python",
   "name": "python",
   "nbconvert_exporter": "python",
   "pygments_lexer": "ipython3",
   "version": "3.7.0"
  }
 },
 "nbformat": 4,
 "nbformat_minor": 2
}
