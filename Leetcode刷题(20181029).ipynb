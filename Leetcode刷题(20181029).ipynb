{
 "cells": [
  {
   "attachments": {
    "image.png": {
     "image/png": "[encoded data removed]"
    }
   },
   "cell_type": "markdown",
   "metadata": {},
   "source": [
    "## [89. Gray Code](https://leetcode.com/problems/gray-code/description/)\n",
    "\n",
    "问题难度: &clubs; &clubs; &clubs;\n",
    "\n",
    "### 问题描述\n",
    "\n",
    "`gray code`是一个二进制的数字系统, 其中两个连续的值只有一位不一样.\n",
    "\n",
    "给定一个非负的整数`n`标识编码中的总位数, 打印出`gray code`的序列. `gray code`序列必须从`0`开始.\n",
    "\n",
    "**示例1**\n",
    "```\n",
    "Input: 2\n",
    "Output: [0,1,3,2]\n",
    "Explanation:\n",
    "00 - 0\n",
    "01 - 1\n",
    "11 - 3\n",
    "10 - 2\n",
    "\n",
    "对于一个给定的 n, gray code 序列可能并不是唯一的.\n",
    "例如, [0,2,3,1] 也是一个有效的gray code序列.\n",
    "\n",
    "00 - 0\n",
    "10 - 2\n",
    "11 - 3\n",
    "01 - 1\n",
    "```\n",
    "\n",
    "**示例2**\n",
    "```\n",
    "Input: 0\n",
    "Output: [0]\n",
    "解释: 我们将 gray code 序列定义为从0开始. 一个n的gray code 序列长度为2^n, 那么对于 n = 0, 其大小为 2^0 = 1.因此, 对于 n = 0, gray code序列为: [0].\n",
    "```\n",
    "\n",
    "### 解题思路\n",
    "\n",
    "从示例中, 我们可以知道: 对于`n`应该要有`2^n`个元素. 找找规律:\n",
    "\n",
    "\n",
    "参考[维基百科](https://zh.wikipedia.org/wiki/%E6%A0%BC%E9%9B%B7%E7%A0%81)中得到以下几种方法:\n",
    "\n",
    "**直接排列法**:\n",
    "\n",
    "> 以二进制为0值的格雷码为第零项，第一项改变最右边的位元，第二项改变右起第一个为1的位元的左边位元，第三、四项方法同第一、二项，如此反复，即可排列出n个位元的格雷码。\n",
    "\n",
    "尝试理解一下:\n",
    "当`n=3`时, `gray code`序列为:\n",
    "```\n",
    "000 - 0 \n",
    "001 - 1\n",
    "011 - 3 \n",
    "010 - 2\n",
    "110 - 6\n",
    "111 - 7\n",
    "101 - 5\n",
    "100 - 4\n",
    "```\n",
    "\n",
    "**镜面对称法**\n",
    "\n",
    "> n位元的格雷码可以从n-1位元的格雷码以上下镜射后加上新位元的方式快速得到，如下图所示:\n",
    "![image.png](attachment:image.png)"
   ]
  },
  {
   "cell_type": "code",
   "execution_count": 21,
   "metadata": {},
   "outputs": [],
   "source": [
    "class Solution(object):\n",
    "    # gray to binary\n",
    "    def grayCode(self, n):\n",
    "        \"\"\"\n",
    "        :type n: int\n",
    "        :rtype: List[int]\n",
    "        \"\"\"\n",
    "        if n == 0:\n",
    "            return [0]\n",
    "        ans = list()\n",
    "        total_iter = 1\n",
    "        for i in range(n-1):\n",
    "            total_iter *= 2 \n",
    "        iter = 0\n",
    "        code_arr = [0 for _ in range(n)]\n",
    "        while iter < total_iter:\n",
    "            ans.append(self.convert(code_arr))\n",
    "            code_arr[-1] = 1 - code_arr[-1]\n",
    "            ans.append(self.convert(code_arr))\n",
    "            end = n - 1\n",
    "            while end > 0 and code_arr[end] == 0:\n",
    "                end -= 1\n",
    "            if end >= 1:\n",
    "                code_arr[end-1] = 1 - code_arr[end-1]\n",
    "            iter += 1\n",
    "        return ans\n",
    "        \n",
    "    def convert(self, arr):\n",
    "        num = 0\n",
    "        now_num = 1\n",
    "        for i in range(len(arr)-1 , -1, -1):\n",
    "            num += arr[i] * now_num\n",
    "            now_num *= 2\n",
    "        return num\n",
    "    \n",
    "    def grayCodeMirror(self, n):\n",
    "        \"\"\"\n",
    "        :type n: int\n",
    "        :rtype: List[int]\n",
    "        \"\"\"\n",
    "        if n == 0:\n",
    "            return [0]\n",
    "        if n == 1:\n",
    "            return [0, 1]\n",
    "        arr = self.grayCodeMirror(n-1)\n",
    "        ans = [0 for i in range(2*len(arr))]\n",
    "        pow_val = 1\n",
    "        for _ in range(n-1):\n",
    "            pow_val *= 2\n",
    "        for i in range(len(arr)):\n",
    "            ans[i] = arr[i]\n",
    "            ans[len(arr) + i] = arr[len(arr)-i-1] + pow_val\n",
    "        return ans"
   ]
  },
  {
   "cell_type": "code",
   "execution_count": 22,
   "metadata": {},
   "outputs": [
    {
     "name": "stdout",
     "output_type": "stream",
     "text": [
      "[0, 1, 3, 2]\n"
     ]
    }
   ],
   "source": [
    "n = 2\n",
    "s = Solution()\n",
    "print s.grayCodeMirror(n)"
   ]
  },
  {
   "cell_type": "code",
   "execution_count": null,
   "metadata": {},
   "outputs": [],
   "source": []
  }
 ],
 "metadata": {
  "kernelspec": {
   "display_name": "Python 2",
   "language": "python",
   "name": "python2"
  },
  "language_info": {
   "codemirror_mode": {
    "name": "ipython",
    "version": 2
   },
   "file_extension": ".py",
   "mimetype": "text/x-python",
   "name": "python",
   "nbconvert_exporter": "python",
   "pygments_lexer": "ipython2",
   "version": "2.7.15"
  }
 },
 "nbformat": 4,
 "nbformat_minor": 2
}
