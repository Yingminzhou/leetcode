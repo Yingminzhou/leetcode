{
 "cells": [
  {
   "cell_type": "markdown",
   "metadata": {},
   "source": [
    "## [181. Employees Earning More Than Their Managers](https://leetcode.com/problems/employees-earning-more-than-their-managers/)\n",
    "\n",
    "问题难度: &clubs;\n",
    "\n",
    "### 问题描述\n",
    "\n",
    "`Employee`表中存储着所有雇员的信息(包括经理). 每个雇员都有一个工号`id`, 最后一列为其经理的`id`:\n",
    "\n",
    "```\n",
    "+----+-------+--------+-----------+\n",
    "| Id | Name  | Salary | ManagerId |\n",
    "+----+-------+--------+-----------+\n",
    "| 1  | Joe   | 70000  | 3         |\n",
    "| 2  | Henry | 80000  | 4         |\n",
    "| 3  | Sam   | 60000  | NULL      |\n",
    "| 4  | Max   | 90000  | NULL      |\n",
    "+----+-------+--------+-----------+\n",
    "```\n",
    "\n",
    "给定`Employee`表, 写一个`SQL`查询语句找出那些工资比他们经理高的员工们. 在上面的表中, 只有`Joe`的工资比他的经理高.\n",
    "\n",
    "```\n",
    "+----------+\n",
    "| Employee |\n",
    "+----------+\n",
    "| Joe      |\n",
    "+----------+\n",
    "```\n",
    "\n",
    "### 解题思路\n",
    "\n",
    "这道题是一个考察`SQL`的题目. 一个简单的想法: 将`Employee`表自己`join`一下, 然后再比较`Salary`的值即可.\n"
   ]
  }
 ],
 "metadata": {
  "kernelspec": {
   "display_name": "Python 2",
   "language": "python",
   "name": "python2"
  },
  "language_info": {
   "codemirror_mode": {
    "name": "ipython",
    "version": 2
   },
   "file_extension": ".py",
   "mimetype": "text/x-python",
   "name": "python",
   "nbconvert_exporter": "python",
   "pygments_lexer": "ipython2",
   "version": "2.7.15"
  }
 },
 "nbformat": 4,
 "nbformat_minor": 2
}
