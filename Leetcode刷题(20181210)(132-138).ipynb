{
 "cells": [
  {
   "cell_type": "markdown",
   "metadata": {},
   "source": [
    "## [132- Palindrome Partitioning II](https://leetcode.com/problems/palindrome-partitioning-ii/)\n",
    "\n",
    "问题难度： &clubs; &clubs; &clubs; &clubs; &clubs;\n",
    "\n",
    "### 问题难度\n",
    "\n",
    "给定一个字符串`s`， 对`s`进行分割使得每个子串部分都是回文。\n",
    "\n",
    "返回`s`的回文分割中需要的最小切割次数。\n",
    "\n",
    "**示例**\n",
    "```\n",
    "Input: \"aab\"\n",
    "Output: 1\n",
    "解释: 只切割1次就能形成： [\"aa\",\"b\"]\n",
    "```\n",
    "\n",
    "### 解题思路\n",
    "\n",
    "还是一句老话：所有字符串相关的题目都能用动态规划法进行求解。"
   ]
  },
  {
   "cell_type": "code",
   "execution_count": null,
   "metadata": {},
   "outputs": [],
   "source": []
  }
 ],
 "metadata": {
  "kernelspec": {
   "display_name": "Python 3",
   "language": "python",
   "name": "python3"
  },
  "language_info": {
   "codemirror_mode": {
    "name": "ipython",
    "version": 3
   },
   "file_extension": ".py",
   "mimetype": "text/x-python",
   "name": "python",
   "nbconvert_exporter": "python",
   "pygments_lexer": "ipython3",
   "version": "3.7.0"
  }
 },
 "nbformat": 4,
 "nbformat_minor": 2
}
