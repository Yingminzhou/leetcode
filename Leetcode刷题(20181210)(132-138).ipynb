{
 "cells": [
  {
   "cell_type": "markdown",
   "metadata": {},
   "source": [
    "## [132- Palindrome Partitioning II](https://leetcode.com/problems/palindrome-partitioning-ii/)\n",
    "\n",
    "问题难度： &clubs; &clubs; &clubs; &clubs; &clubs;\n",
    "\n",
    "### 问题难度\n",
    "\n",
    "给定一个字符串`s`， 对`s`进行分割使得每个子串部分都是回文。\n",
    "\n",
    "返回`s`的回文分割中需要的最小切割次数。\n",
    "\n",
    "**示例**\n",
    "```\n",
    "Input: \"aab\"\n",
    "Output: 1\n",
    "解释: 只切割1次就能形成： [\"aa\",\"b\"]\n",
    "```\n",
    "\n",
    "### 解题思路\n",
    "\n",
    "还是一句老话：所有字符串相关的题目都能用动态规划法进行求解。\n",
    "\n",
    "数学化： 使用`cuts[i]`表示从`i`到`len(s)`的最小切割数,假设`i`到`j`之间为回文，那么`cuts[i] = min(cuts[i], cuts[j+1] + 1)`；初始化：`cuts[i]=len(s)-i-1`，最后返回`cuts[0]`。\n",
    "\n",
    "问题变成了如何判断`i`到`j`是否为回文：\n",
    "- 如果`j-i<=1`，那么只需要判断`s[i] == s[j]`\n",
    "- 否则， 只需要判断`s[i]==s[j] && p[i-1][j+1]`\n",
    "\n",
    "### 代码"
   ]
  },
  {
   "cell_type": "code",
   "execution_count": 1,
   "metadata": {},
   "outputs": [],
   "source": [
    "class Solution(object):\n",
    "    def minCut(self, s):\n",
    "        \"\"\"\n",
    "        :type s: str\n",
    "        :rtype: int\n",
    "        \"\"\"\n",
    "        s_len = len(s)\n",
    "        cuts = []\n",
    "        p = [[False for _ in range(s_len)] for _ in range(s_len)]\n",
    "        for i in range(s_len + 1):\n",
    "            cuts.append(s_len-i- 1)\n",
    "        for i in range(s_len-1, -1, -1):\n",
    "            for j in range(i, s_len):\n",
    "                if (s[i]==s[j] and (j-i<=1 or p[i+1][j-1])):\n",
    "                    p[i][j] = True\n",
    "                    if cuts[j+1] + 1 < cuts[i]:\n",
    "                        cuts[i] = cuts[j+1] + 1\n",
    "        return cuts[0]\n",
    "        "
   ]
  },
  {
   "cell_type": "markdown",
   "metadata": {},
   "source": [
    "## [133- Clone Graph](https://leetcode.com/problems/clone-graph/)\n",
    "\n",
    "问题难度： &clubs; &clubs; &clubs;\n",
    "\n",
    "### 问题难度\n",
    "\n",
    "给定一个图的头，返回图的深度复制。图中的每个节点都包含一个标签（`int`)和它邻居节点的列表(`List[UndirectedGraphNode]`)。给定节点和其邻居节点之间都有一条边。\n",
    "\n",
    "**`OJ`的无向图系列（从而我们可以了解错误的输出）：节点的标签具有唯一性。**\n",
    "\n",
    "我们使用`#`作为每个节点之间的分隔符，`,`作为节点的标签以及节点的所有邻居。\n",
    "\n",
    "将序列图`{0,1,2#1,2#2,2}`作为一个示例：\n",
    "\n",
    "从上面可以看出，这个图一共有使用`#`分割的三个节点。\n",
    "\n",
    "- 第1个节点的标签为`0`，节点`0`同时连接`1`和`2`\n",
    "- 第2个节点的标签为`1`，节点`1`连接`2`\n",
    "- 第3个节点的标签为`2`，节点`2`只连接它自己，形成一个环\n",
    "\n",
    "可视化之后如下图所示：\n",
    " ```\n",
    "\n",
    "       1\n",
    "      / \\\n",
    "     /   \\\n",
    "    0 --- 2\n",
    "        / \\\n",
    "        \\_/\n",
    "```\n",
    "**注意**：树序列化的信息只是为了帮助我们了解错误的输出。我们不需要了解序列化来解决这个问题。"
   ]
  },
  {
   "cell_type": "code",
   "execution_count": null,
   "metadata": {},
   "outputs": [],
   "source": []
  }
 ],
 "metadata": {
  "kernelspec": {
   "display_name": "Python 3",
   "language": "python",
   "name": "python3"
  },
  "language_info": {
   "codemirror_mode": {
    "name": "ipython",
    "version": 3
   },
   "file_extension": ".py",
   "mimetype": "text/x-python",
   "name": "python",
   "nbconvert_exporter": "python",
   "pygments_lexer": "ipython3",
   "version": "3.7.0"
  }
 },
 "nbformat": 4,
 "nbformat_minor": 2
}
